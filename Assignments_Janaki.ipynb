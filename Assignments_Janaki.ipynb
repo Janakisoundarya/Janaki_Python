{
 "cells": [
  {
   "cell_type": "code",
   "execution_count": null,
   "metadata": {
    "collapsed": true
   },
   "outputs": [],
   "source": [
    "#Assignment_3_15"
   ]
  },
  {
   "cell_type": "code",
   "execution_count": 49,
   "metadata": {
    "collapsed": false
   },
   "outputs": [
    {
     "name": "stdout",
     "output_type": "stream",
     "text": [
      "1.MAC\n",
      "2.Linux\n",
      "3.windows4.q to quit\n",
      "enter an option:1\n",
      "MAC selected\n",
      "1.MAC\n",
      "2.Linux\n",
      "3.windows4.q to quit\n",
      "enter an option:q\n",
      "user selected quit option\n"
     ]
    }
   ],
   "source": [
    "#1.WAP to print the menu \n",
    "while True:\n",
    "    print \"1.MAC\\n2.Linux\\n3.windows4.q to quit\"\n",
    "    opt = raw_input(\"enter an option:\")\n",
    "    if opt == \"1\":\n",
    "        print \"MAC selected\"\n",
    "    elif opt ==\"2\":\n",
    "        print \"Linux selected\"\n",
    "    elif opt==\"3\":\n",
    "        print \"windows selected\"\n",
    "    elif opt == \"q\":\n",
    "        print \"user selected quit option\"\n",
    "        break\n",
    "    else:\n",
    "        print \"select valid option\"\n"
   ]
  },
  {
   "cell_type": "code",
   "execution_count": null,
   "metadata": {
    "collapsed": true
   },
   "outputs": [],
   "source": []
  },
  {
   "cell_type": "code",
   "execution_count": null,
   "metadata": {
    "collapsed": true
   },
   "outputs": [],
   "source": [
    "#Assignment_3_17"
   ]
  },
  {
   "cell_type": "code",
   "execution_count": 48,
   "metadata": {
    "collapsed": false
   },
   "outputs": [
    {
     "name": "stdout",
     "output_type": "stream",
     "text": [
      "enter a stringpythonp\n",
      "enter substring to checkp\n"
     ]
    },
    {
     "data": {
      "text/plain": [
       "6"
      ]
     },
     "execution_count": 48,
     "metadata": {},
     "output_type": "execute_result"
    }
   ],
   "source": [
    "#1.WAP to find second or third ocurrence of a character in a string\n",
    "str= raw_input(\"enter a string\")\n",
    "sub = raw_input(\"enter substring to check\")\n",
    "str= str.lower()\n",
    "sub = sub.lower()\n",
    "str.index(sub,2)"
   ]
  },
  {
   "cell_type": "code",
   "execution_count": 14,
   "metadata": {
    "collapsed": false
   },
   "outputs": [
    {
     "name": "stdout",
     "output_type": "stream",
     "text": [
      "enter a stringPython\n",
      "enter a sub stringp\n",
      "P 0\n"
     ]
    }
   ],
   "source": [
    "#2.WAP to find index of substring.(case insensitive) get the actual and substring from the user\n",
    "str = raw_input(\"enter a string\")\n",
    "sub = raw_input(\"enter a sub string\")\n",
    "for i in str:\n",
    "    if i.lower() == sub.lower():\n",
    "        print i, str.index(i)\n",
    "        "
   ]
  },
  {
   "cell_type": "code",
   "execution_count": 24,
   "metadata": {
    "collapsed": false
   },
   "outputs": [
    {
     "name": "stdout",
     "output_type": "stream",
     "text": [
      "enter a string 1ehwllo\n",
      "1ehwllo\n"
     ]
    }
   ],
   "source": [
    "#3.wap to convert every first letter of a word in to uppercase(only alphabets not a number) \n",
    "str = raw_input(\"enter a string \")\n",
    "if not str[0].isalpha(): \n",
    "    print str\n",
    "else :\n",
    "    print str.title()\n",
    "    "
   ]
  },
  {
   "cell_type": "code",
   "execution_count": 27,
   "metadata": {
    "collapsed": false
   },
   "outputs": [
    {
     "name": "stdout",
     "output_type": "stream",
     "text": [
      "enter a stringpYthon\n",
      "contains upper case\n"
     ]
    }
   ],
   "source": [
    "#4.wap to findout given string contains capital letters or not using for else block\n",
    "text = raw_input(\"enter a string\")\n",
    "for i in text:\n",
    "    if i.isupper():\n",
    "        print \"contains upper case\"\n",
    "        break\n",
    "else:\n",
    "    print \"does not contain\""
   ]
  },
  {
   "cell_type": "code",
   "execution_count": 32,
   "metadata": {
    "collapsed": false
   },
   "outputs": [
    {
     "name": "stdout",
     "output_type": "stream",
     "text": [
      "enter a string pythonpython\n",
      "enter substringpy\n",
      "enter a string to replacezy\n",
      "enter no of occurences4\n"
     ]
    },
    {
     "data": {
      "text/plain": [
       "'zythonzython'"
      ]
     },
     "execution_count": 32,
     "metadata": {},
     "output_type": "execute_result"
    }
   ],
   "source": [
    "#5.wap to replace a source sub string with a given destion substring wiht given number of occurances\n",
    "str = raw_input(\"enter a string \")\n",
    "sub = raw_input(\"enter substring\")\n",
    "rep = raw_input(\"enter a string to replace\")\n",
    "times = input(\"enter no of occurences\")\n",
    "str.replace(sub,rep,times)\n",
    "        "
   ]
  },
  {
   "cell_type": "code",
   "execution_count": null,
   "metadata": {
    "collapsed": true
   },
   "outputs": [],
   "source": []
  },
  {
   "cell_type": "code",
   "execution_count": null,
   "metadata": {
    "collapsed": true
   },
   "outputs": [],
   "source": []
  },
  {
   "cell_type": "code",
   "execution_count": null,
   "metadata": {
    "collapsed": true
   },
   "outputs": [],
   "source": []
  },
  {
   "cell_type": "code",
   "execution_count": null,
   "metadata": {
    "collapsed": true
   },
   "outputs": [],
   "source": []
  },
  {
   "cell_type": "code",
   "execution_count": null,
   "metadata": {
    "collapsed": true
   },
   "outputs": [],
   "source": []
  },
  {
   "cell_type": "code",
   "execution_count": null,
   "metadata": {
    "collapsed": true
   },
   "outputs": [],
   "source": []
  },
  {
   "cell_type": "code",
   "execution_count": null,
   "metadata": {
    "collapsed": true
   },
   "outputs": [],
   "source": []
  },
  {
   "cell_type": "code",
   "execution_count": null,
   "metadata": {
    "collapsed": true
   },
   "outputs": [],
   "source": []
  },
  {
   "cell_type": "code",
   "execution_count": null,
   "metadata": {
    "collapsed": true
   },
   "outputs": [],
   "source": []
  },
  {
   "cell_type": "code",
   "execution_count": null,
   "metadata": {
    "collapsed": true
   },
   "outputs": [],
   "source": []
  },
  {
   "cell_type": "code",
   "execution_count": null,
   "metadata": {
    "collapsed": true
   },
   "outputs": [],
   "source": []
  },
  {
   "cell_type": "code",
   "execution_count": null,
   "metadata": {
    "collapsed": true
   },
   "outputs": [],
   "source": []
  },
  {
   "cell_type": "code",
   "execution_count": null,
   "metadata": {
    "collapsed": true
   },
   "outputs": [],
   "source": []
  },
  {
   "cell_type": "code",
   "execution_count": null,
   "metadata": {
    "collapsed": true
   },
   "outputs": [],
   "source": []
  },
  {
   "cell_type": "code",
   "execution_count": null,
   "metadata": {
    "collapsed": true
   },
   "outputs": [],
   "source": []
  },
  {
   "cell_type": "code",
   "execution_count": null,
   "metadata": {
    "collapsed": true
   },
   "outputs": [],
   "source": []
  },
  {
   "cell_type": "code",
   "execution_count": null,
   "metadata": {
    "collapsed": true
   },
   "outputs": [],
   "source": []
  },
  {
   "cell_type": "code",
   "execution_count": null,
   "metadata": {
    "collapsed": true
   },
   "outputs": [],
   "source": []
  },
  {
   "cell_type": "code",
   "execution_count": null,
   "metadata": {
    "collapsed": true
   },
   "outputs": [],
   "source": []
  },
  {
   "cell_type": "code",
   "execution_count": null,
   "metadata": {
    "collapsed": true
   },
   "outputs": [],
   "source": []
  },
  {
   "cell_type": "code",
   "execution_count": null,
   "metadata": {
    "collapsed": true
   },
   "outputs": [],
   "source": []
  },
  {
   "cell_type": "code",
   "execution_count": null,
   "metadata": {
    "collapsed": true
   },
   "outputs": [],
   "source": []
  },
  {
   "cell_type": "code",
   "execution_count": null,
   "metadata": {
    "collapsed": true
   },
   "outputs": [],
   "source": []
  },
  {
   "cell_type": "code",
   "execution_count": null,
   "metadata": {
    "collapsed": true
   },
   "outputs": [],
   "source": []
  },
  {
   "cell_type": "code",
   "execution_count": null,
   "metadata": {
    "collapsed": true
   },
   "outputs": [],
   "source": []
  }
 ],
 "metadata": {
  "kernelspec": {
   "display_name": "Python 2",
   "language": "python",
   "name": "python2"
  },
  "language_info": {
   "codemirror_mode": {
    "name": "ipython",
    "version": 2
   },
   "file_extension": ".py",
   "mimetype": "text/x-python",
   "name": "python",
   "nbconvert_exporter": "python",
   "pygments_lexer": "ipython2",
   "version": "2.7.13"
  }
 },
 "nbformat": 4,
 "nbformat_minor": 2
}
