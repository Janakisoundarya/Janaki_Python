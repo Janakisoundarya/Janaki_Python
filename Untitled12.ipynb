{
 "cells": [
  {
   "cell_type": "code",
   "execution_count": 5,
   "metadata": {
    "collapsed": false
   },
   "outputs": [
    {
     "name": "stdout",
     "output_type": "stream",
     "text": [
      "[1, 2, 3, 4, 5]\n"
     ]
    }
   ],
   "source": [
    "##77. Remove duplicates elements of the list withoud using built in keywords and temporary list.\n",
    "l=[1,2,3,4,5,2,3,4,5,3,4,5,4,5,5,1,2,3,4,5,2,3,4,5,3,4,5,4,5,5]\n",
    "for i in l:\n",
    "    if l.count(i)>1:\n",
    "        for j in range(l.count(i)-1):\n",
    "            l.remove(i)\n",
    "print l"
   ]
  },
  {
   "cell_type": "code",
   "execution_count": null,
   "metadata": {
    "collapsed": true
   },
   "outputs": [],
   "source": []
  },
  {
   "cell_type": "code",
   "execution_count": 6,
   "metadata": {
    "collapsed": false
   },
   "outputs": [
    {
     "name": "stdout",
     "output_type": "stream",
     "text": [
      "enter a stringhellohellohello\n",
      "enter a sub stringhe\n"
     ]
    },
    {
     "ename": "AttributeError",
     "evalue": "'str' object has no attribute 'remove'",
     "output_type": "error",
     "traceback": [
      "\u001b[0;31m---------------------------------------------------------------------------\u001b[0m",
      "\u001b[0;31mAttributeError\u001b[0m                            Traceback (most recent call last)",
      "\u001b[0;32m<ipython-input-6-98e129706f8e>\u001b[0m in \u001b[0;36m<module>\u001b[0;34m()\u001b[0m\n\u001b[1;32m      3\u001b[0m \u001b[0msub_str\u001b[0m \u001b[1;33m=\u001b[0m \u001b[0mraw_input\u001b[0m\u001b[1;33m(\u001b[0m\u001b[1;34m\"enter a sub string\"\u001b[0m\u001b[1;33m)\u001b[0m\u001b[1;33m\u001b[0m\u001b[0m\n\u001b[1;32m      4\u001b[0m \u001b[1;32mif\u001b[0m \u001b[0msub_str\u001b[0m \u001b[1;32min\u001b[0m \u001b[0morg_str\u001b[0m\u001b[1;33m:\u001b[0m\u001b[1;33m\u001b[0m\u001b[0m\n\u001b[0;32m----> 5\u001b[0;31m     \u001b[0morg_str\u001b[0m\u001b[1;33m.\u001b[0m\u001b[0mremove\u001b[0m\u001b[1;33m(\u001b[0m\u001b[0msub_str\u001b[0m\u001b[1;33m)\u001b[0m\u001b[1;33m\u001b[0m\u001b[0m\n\u001b[0m\u001b[1;32m      6\u001b[0m \u001b[1;32mprint\u001b[0m \u001b[0morg_str\u001b[0m\u001b[1;33m\u001b[0m\u001b[0m\n",
      "\u001b[0;31mAttributeError\u001b[0m: 'str' object has no attribute 'remove'"
     ]
    }
   ],
   "source": [
    "#79. WAP top remove substring form the given string without using replace function\n",
    "org_str = raw_input(\"enter a string\")\n",
    "sub_str = raw_input(\"enter a sub string\")\n",
    "if sub_str in org_str:\n",
    "    org_str.remove(sub_str)\n",
    "print org_str"
   ]
  },
  {
   "cell_type": "code",
   "execution_count": 1,
   "metadata": {
    "collapsed": false
   },
   "outputs": [
    {
     "name": "stdout",
     "output_type": "stream",
     "text": [
      "[1, 2, 4, 5, 1, 2, 4, 5]\n"
     ]
    }
   ],
   "source": [
    "#80  WAP to remove perticular element from a given list for all occurancers\n",
    "l=[1,2,3,4,5,1,2,3,4,5]\n",
    "for i in l:\n",
    "    if i == 3:\n",
    "        l.remove(i)\n",
    "print l"
   ]
  },
  {
   "cell_type": "code",
   "execution_count": null,
   "metadata": {
    "collapsed": true
   },
   "outputs": [],
   "source": [
    "#78. WAP to replace perticular number of substings with a given destination string"
   ]
  },
  {
   "cell_type": "code",
   "execution_count": 7,
   "metadata": {
    "collapsed": false
   },
   "outputs": [
    {
     "name": "stdout",
     "output_type": "stream",
     "text": [
      "hello\n"
     ]
    }
   ],
   "source": [
    "#79. WAP top remove substring form the given string without using replace function\n",
    "a = \"hello\"\n",
    "a=a.split( )\n",
    "for i in a:\n",
    "    if i == \"h\":\n",
    "        a.remove(\"h\")\n",
    "a= \" \".join(a)\n",
    "print a"
   ]
  },
  {
   "cell_type": "code",
   "execution_count": 15,
   "metadata": {
    "collapsed": false
   },
   "outputs": [
    {
     "name": "stdout",
     "output_type": "stream",
     "text": [
      "['h', 'e', 'l', 'l', '', ' ', 'g', '', '', 'd', ' ', 'm', '', 'r', 'n', 'i', 'n', 'g']\n",
      "hell gd mrning\n"
     ]
    }
   ],
   "source": [
    "string = list('hello good morning')\n",
    "result = []\n",
    "for i in string:\n",
    "        #print i\n",
    "        if i == 'o':\n",
    "                i = '0'\n",
    "        result.append(i)\n",
    "print result\n",
    "print ''.join(result)"
   ]
  }
 ],
 "metadata": {
  "kernelspec": {
   "display_name": "Python 2",
   "language": "python",
   "name": "python2"
  },
  "language_info": {
   "codemirror_mode": {
    "name": "ipython",
    "version": 2
   },
   "file_extension": ".py",
   "mimetype": "text/x-python",
   "name": "python",
   "nbconvert_exporter": "python",
   "pygments_lexer": "ipython2",
   "version": "2.7.13"
  }
 },
 "nbformat": 4,
 "nbformat_minor": 2
}
