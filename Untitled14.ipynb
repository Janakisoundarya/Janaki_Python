{
 "cells": [
  {
   "cell_type": "code",
   "execution_count": 6,
   "metadata": {
    "collapsed": false
   },
   "outputs": [
    {
     "name": "stdout",
     "output_type": "stream",
     "text": [
      "enter no of people145\n",
      "enter no of buses9\n",
      "enter no of seats7\n",
      "its in if in if block\n",
      "no of buses reqd is\n"
     ]
    }
   ],
   "source": [
    "people= int(raw_input(\"enter no of people\"))\n",
    "buses = int(raw_input(\"enter no of buses\"))\n",
    "seats = int(raw_input(\"enter no of seats\"))\n",
    "if people > buses*seats:\n",
    "    count = people - buses*seats\n",
    "    extra = float(count/seats)\n",
    "    if isinstance(extra,float)==True:\n",
    "        extra+=1\n",
    "        extra= int(extra)\n",
    "        print \"its in if in if block\"\n",
    "        print \"no of buses reqd is\", \n",
    "        \n",
    "    else:\n",
    "        print \"its in else in if block\"\n",
    "        print \"no of buses reqd is\", extra\n",
    "else:\n",
    "    \"sufficient buses\""
   ]
  },
  {
   "cell_type": "code",
   "execution_count": 7,
   "metadata": {
    "collapsed": false
   },
   "outputs": [
    {
     "name": "stdout",
     "output_type": "stream",
     "text": [
      "Total number of people: 145\n",
      "Total number of busses: 9\n",
      "Number of seats for bus: 7\n",
      "There are no sufficient busses and the seats required are 82\n"
     ]
    }
   ],
   "source": [
    "a = input(\"Total number of people: \")\n",
    "b = input(\"Total number of busses: \")\n",
    "c = input(\"Number of seats for bus: \")\n",
    "d = (b*c)\n",
    "e = (d-a)\n",
    "f = (a-d)\n",
    "\n",
    "if a == d or a <= d:\n",
    "    print \"There are sufficient busses and the remaining seats are %d\" %(e)\n",
    "\n",
    "else:\n",
    "    print \"There are no sufficient busses and the seats required are %d\" %(f) "
   ]
  },
  {
   "cell_type": "code",
   "execution_count": null,
   "metadata": {
    "collapsed": true
   },
   "outputs": [],
   "source": [
    "with open(\"string.txt\", \"rb\") as fin:\n",
    "    content = json.load(fin)\n",
    "with open(\"stringJson.txt\", \"wb\") as fout:\n",
    "    json.dump(content, fout, indent=1)"
   ]
  },
  {
   "cell_type": "code",
   "execution_count": 9,
   "metadata": {
    "collapsed": false
   },
   "outputs": [
    {
     "data": {
      "text/plain": [
       "(<connection object at 0x00000000059B2678; dsn: 'password=xxxxxxxx port=5432 dbname=Test user=postgres', closed: 0>,\n",
       " <cursor object at 0x0000000004420F28; closed: 0>)"
      ]
     },
     "execution_count": 9,
     "metadata": {},
     "output_type": "execute_result"
    }
   ],
   "source": [
    "import psycopg2\n",
    "def db_connect():\n",
    "    con=psycopg2.connect(user=\"postgres\",password=\"postgres\",port=5432,database=\"Test\")\n",
    "    cur=con.cursor()\n",
    "    return con,cur\n",
    "db_connect()"
   ]
  },
  {
   "cell_type": "code",
   "execution_count": 14,
   "metadata": {
    "collapsed": false
   },
   "outputs": [],
   "source": [
    "def create_table(idval,nameval):\n",
    "    con,cur=db_connect()\n",
    "    query=\"create table persons_test (id int, name varchar(50))\"\n",
    "    cur.execute(query)\n",
    "    con.commit()\n",
    "create_table(\"id\",\"name\")"
   ]
  },
  {
   "cell_type": "code",
   "execution_count": 28,
   "metadata": {
    "collapsed": false
   },
   "outputs": [],
   "source": [
    "def insert_values(id,name):\n",
    "    con,cur=db_connect()\n",
    "    cur.execute(\"insert into persons values ({0},'{1}')\".format(id,name))\n",
    "    con.commit()\n",
    "insert_values(1,\"janaki\")"
   ]
  },
  {
   "cell_type": "code",
   "execution_count": 38,
   "metadata": {
    "collapsed": false
   },
   "outputs": [
    {
     "data": {
      "text/plain": [
       "[(1, 'janaki soundarya')]"
      ]
     },
     "execution_count": 38,
     "metadata": {},
     "output_type": "execute_result"
    }
   ],
   "source": [
    "con,cur= db_connect()\n",
    "query= \"select * from persons\"\n",
    "data = cur.execute(query)\n",
    "cur.fetchall()"
   ]
  },
  {
   "cell_type": "code",
   "execution_count": 34,
   "metadata": {
    "collapsed": true
   },
   "outputs": [],
   "source": [
    "def update_values(id,name):\n",
    "    con,cur=db_connect()\n",
    "    query= \"update persons SET name = '{1}' where id = {0}\".format(id,name)\n",
    "    cur.execute(query)\n",
    "    con.commit()\n",
    "update_values(1,\"janaki soundarya\")"
   ]
  },
  {
   "cell_type": "code",
   "execution_count": 36,
   "metadata": {
    "collapsed": false
   },
   "outputs": [],
   "source": [
    "def delete_values(id):\n",
    "    con,cur = db_connect()\n",
    "    query= \"DELETE FROM persons WHERE id = {0}\".format(0)\n",
    "    cur.execute(query)\n",
    "    con.commit()\n",
    "delete_values(1)"
   ]
  }
 ],
 "metadata": {
  "kernelspec": {
   "display_name": "Python 2",
   "language": "python",
   "name": "python2"
  },
  "language_info": {
   "codemirror_mode": {
    "name": "ipython",
    "version": 2
   },
   "file_extension": ".py",
   "mimetype": "text/x-python",
   "name": "python",
   "nbconvert_exporter": "python",
   "pygments_lexer": "ipython2",
   "version": "2.7.13"
  }
 },
 "nbformat": 4,
 "nbformat_minor": 2
}
