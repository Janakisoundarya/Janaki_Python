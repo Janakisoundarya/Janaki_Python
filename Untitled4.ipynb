{
 "cells": [
  {
   "cell_type": "code",
   "execution_count": 39,
   "metadata": {
    "collapsed": true
   },
   "outputs": [],
   "source": [
    "a=(0, u'Pseudo name=emcpowerc\\nVPLEX ID=FNM00111700354  \\nLogical device ID=6000144000000010E040A96F14B3B41F\\nstate=alive; policy=ADaptive; queued-IOs=0\\n==============================================================================\\n---- Host ----   - Stor -  ------------ I/O Path -------------   -- Stats ---\\n###  I/O Paths   Interf.   ALUA State            Mode    State   Errors\\n==============================================================================\\n   0 sdc         05        Active/non-optimized  active  alive      0\\n   1 sdjp        06        Active/non-optimized  active  alive      0\\n   0 sdnx        03        Active/non-optimized  active  alive      0\\n   1 sdaav       07        Active/non-optimized  active  alive      0\\n   0 sdco        01        Active/optimized      active  alive      0\\n   0 sdcr        00        Active/optimized      active  alive      0\\n   1 sdcv        02        Active/optimized      active  alive      0\\n   1 sdcy        04        Active/optimized      active  alive      0\\n\\nPseudo name=emcpowerd\\nVPLEX ID=FNM00111700354  \\nLogical device ID=6000144000000010E040A96F14B3B420\\nstate=alive; policy=ADaptive; queued-IOs=0\\n==============================================================================\\n---- Host ----   - Stor -  ------------ I/O Path -------------   -- Stats ---\\n###  I/O Paths   Interf.   ALUA State            Mode    State   Errors\\n==============================================================================\\n   0 sdb         05        Active/optimized      active  alive      0\\n   1 sdjo        06        Active/optimized      active  alive      0\\n   0 sdnv        03        Active/optimized      active  alive      0\\n   1 sdaau       07        Active/optimized      active  alive      0\\n   0 sdcm        01        Active/non-optimized  active  alive      0\\n   0 sdcq        00        Active/non-optimized  active  alive      0\\n   1 sdct        02        Active/non-optimized  active  alive      0\\n   1 sdcw        04        Active/non-optimized  active  alive      0\\n\\n', '')"
   ]
  },
  {
   "cell_type": "code",
   "execution_count": 40,
   "metadata": {
    "collapsed": false
   },
   "outputs": [
    {
     "data": {
      "text/plain": [
       "u'Pseudo name=emcpowerc\\nVPLEX ID=FNM00111700354  \\nLogical device ID=6000144000000010E040A96F14B3B41F\\nstate=alive; policy=ADaptive; queued-IOs=0\\n==============================================================================\\n---- Host ----   - Stor -  ------------ I/O Path -------------   -- Stats ---\\n###  I/O Paths   Interf.   ALUA State            Mode    State   Errors\\n==============================================================================\\n   0 sdc         05        Active/non-optimized  active  alive      0\\n   1 sdjp        06        Active/non-optimized  active  alive      0\\n   0 sdnx        03        Active/non-optimized  active  alive      0\\n   1 sdaav       07        Active/non-optimized  active  alive      0\\n   0 sdco        01        Active/optimized      active  alive      0\\n   0 sdcr        00        Active/optimized      active  alive      0\\n   1 sdcv        02        Active/optimized      active  alive      0\\n   1 sdcy        04        Active/optimized      active  alive      0\\n\\nPseudo name=emcpowerd\\nVPLEX ID=FNM00111700354  \\nLogical device ID=6000144000000010E040A96F14B3B420\\nstate=alive; policy=ADaptive; queued-IOs=0\\n==============================================================================\\n---- Host ----   - Stor -  ------------ I/O Path -------------   -- Stats ---\\n###  I/O Paths   Interf.   ALUA State            Mode    State   Errors\\n==============================================================================\\n   0 sdb         05        Active/optimized      active  alive      0\\n   1 sdjo        06        Active/optimized      active  alive      0\\n   0 sdnv        03        Active/optimized      active  alive      0\\n   1 sdaau       07        Active/optimized      active  alive      0\\n   0 sdcm        01        Active/non-optimized  active  alive      0\\n   0 sdcq        00        Active/non-optimized  active  alive      0\\n   1 sdct        02        Active/non-optimized  active  alive      0\\n   1 sdcw        04        Active/non-optimized  active  alive      0\\n\\n'"
      ]
     },
     "execution_count": 40,
     "metadata": {},
     "output_type": "execute_result"
    }
   ],
   "source": [
    "a[1]"
   ]
  },
  {
   "cell_type": "code",
   "execution_count": 44,
   "metadata": {
    "collapsed": false
   },
   "outputs": [
    {
     "data": {
      "text/plain": [
       "unicode"
      ]
     },
     "execution_count": 44,
     "metadata": {},
     "output_type": "execute_result"
    }
   ],
   "source": [
    "type(a[1])"
   ]
  },
  {
   "cell_type": "code",
   "execution_count": 45,
   "metadata": {
    "collapsed": false
   },
   "outputs": [
    {
     "data": {
      "text/plain": [
       "unicode"
      ]
     },
     "execution_count": 45,
     "metadata": {},
     "output_type": "execute_result"
    }
   ],
   "source": [
    "b = a[1]\n",
    "type(b)"
   ]
  },
  {
   "cell_type": "code",
   "execution_count": 46,
   "metadata": {
    "collapsed": false
   },
   "outputs": [
    {
     "data": {
      "text/plain": [
       "u'Pseudo name=emcpowerc\\nVPLEX ID=FNM00111700354  \\nLogical device ID=6000144000000010E040A96F14B3B41F\\nstate=alive; policy=ADaptive; queued-IOs=0\\n==============================================================================\\n---- Host ----   - Stor -  ------------ I/O Path -------------   -- Stats ---\\n###  I/O Paths   Interf.   ALUA State            Mode    State   Errors\\n==============================================================================\\n   0 sdc         05        Active/non-optimized  active  alive      0\\n   1 sdjp        06        Active/non-optimized  active  alive      0\\n   0 sdnx        03        Active/non-optimized  active  alive      0\\n   1 sdaav       07        Active/non-optimized  active  alive      0\\n   0 sdco        01        Active/optimized      active  alive      0\\n   0 sdcr        00        Active/optimized      active  alive      0\\n   1 sdcv        02        Active/optimized      active  alive      0\\n   1 sdcy        04        Active/optimized      active  alive      0\\n\\nPseudo name=emcpowerd\\nVPLEX ID=FNM00111700354  \\nLogical device ID=6000144000000010E040A96F14B3B420\\nstate=alive; policy=ADaptive; queued-IOs=0\\n==============================================================================\\n---- Host ----   - Stor -  ------------ I/O Path -------------   -- Stats ---\\n###  I/O Paths   Interf.   ALUA State            Mode    State   Errors\\n==============================================================================\\n   0 sdb         05        Active/optimized      active  alive      0\\n   1 sdjo        06        Active/optimized      active  alive      0\\n   0 sdnv        03        Active/optimized      active  alive      0\\n   1 sdaau       07        Active/optimized      active  alive      0\\n   0 sdcm        01        Active/non-optimized  active  alive      0\\n   0 sdcq        00        Active/non-optimized  active  alive      0\\n   1 sdct        02        Active/non-optimized  active  alive      0\\n   1 sdcw        04        Active/non-optimized  active  alive      0\\n\\n'"
      ]
     },
     "execution_count": 46,
     "metadata": {},
     "output_type": "execute_result"
    }
   ],
   "source": [
    "b"
   ]
  },
  {
   "cell_type": "code",
   "execution_count": 51,
   "metadata": {
    "collapsed": false
   },
   "outputs": [
    {
     "data": {
      "text/plain": [
       "[u'Pseudo name=emcpowerc',\n",
       " u'VPLEX ID=FNM00111700354  ',\n",
       " u'Logical device ID=6000144000000010E040A96F14B3B41F',\n",
       " u'state=alive; policy=ADaptive; queued-IOs=0',\n",
       " u'==============================================================================',\n",
       " u'---- Host ----   - Stor -  ------------ I/O Path -------------   -- Stats ---',\n",
       " u'###  I/O Paths   Interf.   ALUA State            Mode    State   Errors',\n",
       " u'==============================================================================',\n",
       " u'   0 sdc         05        Active/non-optimized  active  alive      0',\n",
       " u'   1 sdjp        06        Active/non-optimized  active  alive      0',\n",
       " u'   0 sdnx        03        Active/non-optimized  active  alive      0',\n",
       " u'   1 sdaav       07        Active/non-optimized  active  alive      0',\n",
       " u'   0 sdco        01        Active/optimized      active  alive      0',\n",
       " u'   0 sdcr        00        Active/optimized      active  alive      0',\n",
       " u'   1 sdcv        02        Active/optimized      active  alive      0',\n",
       " u'   1 sdcy        04        Active/optimized      active  alive      0',\n",
       " u'',\n",
       " u'Pseudo name=emcpowerd',\n",
       " u'VPLEX ID=FNM00111700354  ',\n",
       " u'Logical device ID=6000144000000010E040A96F14B3B420',\n",
       " u'state=alive; policy=ADaptive; queued-IOs=0',\n",
       " u'==============================================================================',\n",
       " u'---- Host ----   - Stor -  ------------ I/O Path -------------   -- Stats ---',\n",
       " u'###  I/O Paths   Interf.   ALUA State            Mode    State   Errors',\n",
       " u'==============================================================================',\n",
       " u'   0 sdb         05        Active/optimized      active  alive      0',\n",
       " u'   1 sdjo        06        Active/optimized      active  alive      0',\n",
       " u'   0 sdnv        03        Active/optimized      active  alive      0',\n",
       " u'   1 sdaau       07        Active/optimized      active  alive      0',\n",
       " u'   0 sdcm        01        Active/non-optimized  active  alive      0',\n",
       " u'   0 sdcq        00        Active/non-optimized  active  alive      0',\n",
       " u'   1 sdct        02        Active/non-optimized  active  alive      0',\n",
       " u'   1 sdcw        04        Active/non-optimized  active  alive      0',\n",
       " u'',\n",
       " u'']"
      ]
     },
     "execution_count": 51,
     "metadata": {},
     "output_type": "execute_result"
    }
   ],
   "source": [
    "b.split('\\n')"
   ]
  },
  {
   "cell_type": "code",
   "execution_count": 52,
   "metadata": {
    "collapsed": false
   },
   "outputs": [
    {
     "data": {
      "text/plain": [
       "u'Pseudo name=emcpowerc\\nVPLEX ID=FNM00111700354  \\nLogical device ID=6000144000000010E040A96F14B3B41F\\nstate=alive; policy=ADaptive; queued-IOs=0\\n==============================================================================\\n---- Host ----   - Stor -  ------------ I/O Path -------------   -- Stats ---\\n###  I/O Paths   Interf.   ALUA State            Mode    State   Errors\\n==============================================================================\\n   0 sdc         05        Active/non-optimized  active  alive      0\\n   1 sdjp        06        Active/non-optimized  active  alive      0\\n   0 sdnx        03        Active/non-optimized  active  alive      0\\n   1 sdaav       07        Active/non-optimized  active  alive      0\\n   0 sdco        01        Active/optimized      active  alive      0\\n   0 sdcr        00        Active/optimized      active  alive      0\\n   1 sdcv        02        Active/optimized      active  alive      0\\n   1 sdcy        04        Active/optimized      active  alive      0\\n\\nPseudo name=emcpowerd\\nVPLEX ID=FNM00111700354  \\nLogical device ID=6000144000000010E040A96F14B3B420\\nstate=alive; policy=ADaptive; queued-IOs=0\\n==============================================================================\\n---- Host ----   - Stor -  ------------ I/O Path -------------   -- Stats ---\\n###  I/O Paths   Interf.   ALUA State            Mode    State   Errors\\n==============================================================================\\n   0 sdb         05        Active/optimized      active  alive      0\\n   1 sdjo        06        Active/optimized      active  alive      0\\n   0 sdnv        03        Active/optimized      active  alive      0\\n   1 sdaau       07        Active/optimized      active  alive      0\\n   0 sdcm        01        Active/non-optimized  active  alive      0\\n   0 sdcq        00        Active/non-optimized  active  alive      0\\n   1 sdct        02        Active/non-optimized  active  alive      0\\n   1 sdcw        04        Active/non-optimized  active  alive      0\\n\\n'"
      ]
     },
     "execution_count": 52,
     "metadata": {},
     "output_type": "execute_result"
    }
   ],
   "source": [
    "b"
   ]
  },
  {
   "cell_type": "code",
   "execution_count": 53,
   "metadata": {
    "collapsed": true
   },
   "outputs": [],
   "source": [
    "b = b.split('\\n')"
   ]
  },
  {
   "cell_type": "code",
   "execution_count": 54,
   "metadata": {
    "collapsed": false
   },
   "outputs": [
    {
     "data": {
      "text/plain": [
       "[u'Pseudo name=emcpowerc',\n",
       " u'VPLEX ID=FNM00111700354  ',\n",
       " u'Logical device ID=6000144000000010E040A96F14B3B41F',\n",
       " u'state=alive; policy=ADaptive; queued-IOs=0',\n",
       " u'==============================================================================',\n",
       " u'---- Host ----   - Stor -  ------------ I/O Path -------------   -- Stats ---',\n",
       " u'###  I/O Paths   Interf.   ALUA State            Mode    State   Errors',\n",
       " u'==============================================================================',\n",
       " u'   0 sdc         05        Active/non-optimized  active  alive      0',\n",
       " u'   1 sdjp        06        Active/non-optimized  active  alive      0',\n",
       " u'   0 sdnx        03        Active/non-optimized  active  alive      0',\n",
       " u'   1 sdaav       07        Active/non-optimized  active  alive      0',\n",
       " u'   0 sdco        01        Active/optimized      active  alive      0',\n",
       " u'   0 sdcr        00        Active/optimized      active  alive      0',\n",
       " u'   1 sdcv        02        Active/optimized      active  alive      0',\n",
       " u'   1 sdcy        04        Active/optimized      active  alive      0',\n",
       " u'',\n",
       " u'Pseudo name=emcpowerd',\n",
       " u'VPLEX ID=FNM00111700354  ',\n",
       " u'Logical device ID=6000144000000010E040A96F14B3B420',\n",
       " u'state=alive; policy=ADaptive; queued-IOs=0',\n",
       " u'==============================================================================',\n",
       " u'---- Host ----   - Stor -  ------------ I/O Path -------------   -- Stats ---',\n",
       " u'###  I/O Paths   Interf.   ALUA State            Mode    State   Errors',\n",
       " u'==============================================================================',\n",
       " u'   0 sdb         05        Active/optimized      active  alive      0',\n",
       " u'   1 sdjo        06        Active/optimized      active  alive      0',\n",
       " u'   0 sdnv        03        Active/optimized      active  alive      0',\n",
       " u'   1 sdaau       07        Active/optimized      active  alive      0',\n",
       " u'   0 sdcm        01        Active/non-optimized  active  alive      0',\n",
       " u'   0 sdcq        00        Active/non-optimized  active  alive      0',\n",
       " u'   1 sdct        02        Active/non-optimized  active  alive      0',\n",
       " u'   1 sdcw        04        Active/non-optimized  active  alive      0',\n",
       " u'',\n",
       " u'']"
      ]
     },
     "execution_count": 54,
     "metadata": {},
     "output_type": "execute_result"
    }
   ],
   "source": [
    "b"
   ]
  },
  {
   "cell_type": "code",
   "execution_count": 57,
   "metadata": {
    "collapsed": false
   },
   "outputs": [
    {
     "name": "stdout",
     "output_type": "stream",
     "text": [
      "wrong\n"
     ]
    }
   ],
   "source": [
    "if \"unknown\" in b:\n",
    "    print \"correct\"\n",
    "else:\n",
    "    print \"wrong\""
   ]
  },
  {
   "cell_type": "code",
   "execution_count": null,
   "metadata": {
    "collapsed": true
   },
   "outputs": [],
   "source": []
  },
  {
   "cell_type": "code",
   "execution_count": null,
   "metadata": {
    "collapsed": true
   },
   "outputs": [],
   "source": []
  },
  {
   "cell_type": "code",
   "execution_count": null,
   "metadata": {
    "collapsed": true
   },
   "outputs": [],
   "source": []
  },
  {
   "cell_type": "code",
   "execution_count": null,
   "metadata": {
    "collapsed": true
   },
   "outputs": [],
   "source": []
  },
  {
   "cell_type": "code",
   "execution_count": null,
   "metadata": {
    "collapsed": true
   },
   "outputs": [],
   "source": []
  }
 ],
 "metadata": {
  "kernelspec": {
   "display_name": "Python 2",
   "language": "python",
   "name": "python2"
  },
  "language_info": {
   "codemirror_mode": {
    "name": "ipython",
    "version": 2
   },
   "file_extension": ".py",
   "mimetype": "text/x-python",
   "name": "python",
   "nbconvert_exporter": "python",
   "pygments_lexer": "ipython2",
   "version": "2.7.13"
  }
 },
 "nbformat": 4,
 "nbformat_minor": 2
}
