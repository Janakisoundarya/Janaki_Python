{
 "cells": [
  {
   "cell_type": "code",
   "execution_count": 1,
   "metadata": {
    "collapsed": false
   },
   "outputs": [
    {
     "name": "stdout",
     "output_type": "stream",
     "text": [
      "enter a stringhello soundarya\n",
      "enter a sub stringello\n",
      "sub string presents in original string\n"
     ]
    }
   ],
   "source": [
    "#2. write a program to chek given substring is there in actual string or not? (search should be case insensitive)\n",
    "string = raw_input(\"enter a string\")\n",
    "sub_string = raw_input(\"enter a sub string\")\n",
    "if sub_string in string:\n",
    "    print \"sub string presents in original string\"\n",
    "else:\n",
    "    print \"sub string is not there in original string\""
   ]
  },
  {
   "cell_type": "code",
   "execution_count": 2,
   "metadata": {
    "collapsed": false
   },
   "outputs": [
    {
     "name": "stdout",
     "output_type": "stream",
     "text": [
      "enter a number5\n",
      "its an odd number\n"
     ]
    }
   ],
   "source": [
    "#3. take a number from the user and check whether even or odd\n",
    "num = input(\"enter a number\")\n",
    "if num%2 == 0:\n",
    "    print \"its an even number\"\n",
    "else :\n",
    "    print \"its an odd number\""
   ]
  },
  {
   "cell_type": "code",
   "execution_count": 5,
   "metadata": {
    "collapsed": false
   },
   "outputs": [
    {
     "name": "stdout",
     "output_type": "stream",
     "text": [
      "enter a number37\n",
      "its an prime number\n"
     ]
    }
   ],
   "source": [
    "#4. take a number from the user and check whether it is prime?\n",
    "num = input(\"enter a number\")\n",
    "count = 0\n",
    "for i in range(2,num):\n",
    "    if num%i == 0:\n",
    "        count = count +1\n",
    "        break\n",
    "if count == 0:\n",
    "    print \"its an prime number\"\n",
    "else:\n",
    "    print \"its not a prime number\""
   ]
  },
  {
   "cell_type": "code",
   "execution_count": 6,
   "metadata": {
    "collapsed": false
   },
   "outputs": [
    {
     "name": "stdout",
     "output_type": "stream",
     "text": [
      "enter a string5t\n",
      "It contains other than digits \n"
     ]
    }
   ],
   "source": [
    "#5. take a string from the user and check contains only digits or not?\n",
    "input = raw_input(\"enter a string\")\n",
    "if input.isdigit() == True:\n",
    "    print \"It contains only digits\"\n",
    "else:\n",
    "    print \"It contains other than digits \""
   ]
  },
  {
   "cell_type": "code",
   "execution_count": 7,
   "metadata": {
    "collapsed": false
   },
   "outputs": [
    {
     "name": "stdout",
     "output_type": "stream",
     "text": [
      "enter a stringjjj888\n",
      "It contains other than alphabets\n"
     ]
    }
   ],
   "source": [
    "#6. take a string from the user and check contains only  alphabets or not?\n",
    "input = raw_input(\"enter a string\")\n",
    "if input.isalpha() == True:\n",
    "    print \"It contains only alphabets\"\n",
    "else:\n",
    "    print \"It contains other than alphabets\"\n",
    "    "
   ]
  },
  {
   "cell_type": "code",
   "execution_count": 8,
   "metadata": {
    "collapsed": false
   },
   "outputs": [
    {
     "name": "stdout",
     "output_type": "stream",
     "text": [
      "enter a stringiii88&\n",
      "It contains special characters\n"
     ]
    }
   ],
   "source": [
    "#7. take a string from the user and check contains only  special chars or not?\n",
    "input = raw_input(\"enter a string\")\n",
    "if not input.isalnum():\n",
    "    print \"It contains special characters\"\n",
    "else :\n",
    "    print \"it does not contains special characters\"\n",
    "    "
   ]
  },
  {
   "cell_type": "code",
   "execution_count": 10,
   "metadata": {
    "collapsed": false
   },
   "outputs": [
    {
     "name": "stdout",
     "output_type": "stream",
     "text": [
      "enter a stringPPooPP\n",
      "It contains other than upper case letters\n"
     ]
    }
   ],
   "source": [
    "#8. take a string from the user and check contains only  capiatl letters or not?\n",
    "input = raw_input(\"enter a string\")\n",
    "if input.isupper():\n",
    "    print \"It contains all upper case letters\"\n",
    "else:\n",
    "    print \"It contains other than upper case letters\""
   ]
  },
  {
   "cell_type": "code",
   "execution_count": 12,
   "metadata": {
    "collapsed": false
   },
   "outputs": [
    {
     "name": "stdout",
     "output_type": "stream",
     "text": [
      "enter a stringOiip\n",
      "It contains other than lower case letters\n"
     ]
    }
   ],
   "source": [
    "#9. take a string from the user and check contains only  small letters or not?\n",
    "input = raw_input(\"enter a string\")\n",
    "if input.islower():\n",
    "    print \"It contains all lower case letters\"\n",
    "else:\n",
    "    print \"It contains other than lower case letters\""
   ]
  },
  {
   "cell_type": "code",
   "execution_count": 13,
   "metadata": {
    "collapsed": false
   },
   "outputs": [
    {
     "name": "stdout",
     "output_type": "stream",
     "text": [
      "1.MAC\n",
      "2.Linux\n",
      "3.windows4.q to quit\n",
      "enter an option:q\n",
      "user selected quit option\n"
     ]
    }
   ],
   "source": [
    "#10. Show the below menu to the user until and until user select quit and display corresponding os message\n",
    "\n",
    "'''\n",
    "Menu:\n",
    "1. windows\n",
    "2. Linux\n",
    "3. Mac\n",
    "4. quit\n",
    "'''\n",
    "while True:\n",
    "    print \"1.MAC\\n2.Linux\\n3.windows4.q to quit\"\n",
    "    opt = raw_input(\"enter an option:\")\n",
    "    if opt == \"1\":\n",
    "        print \"MAC selected\"\n",
    "    elif opt ==\"2\":\n",
    "        print \"Linux selected\"\n",
    "    elif opt==\"3\":\n",
    "        print \"windows selected\"\n",
    "    elif opt == \"q\":\n",
    "        print \"user selected quit option\"\n",
    "        break\n",
    "    else:\n",
    "        print \"select valid option\"\n"
   ]
  },
  {
   "cell_type": "code",
   "execution_count": 29,
   "metadata": {
    "collapsed": false
   },
   "outputs": [
    {
     "name": "stdout",
     "output_type": "stream",
     "text": [
      "enter a stringooo999\n",
      "It contains atleast one digit\n"
     ]
    }
   ],
   "source": [
    "#11. take a string from the user and check contains atleast one digit or not?\n",
    "input = raw_input(\"enter a string\")\n",
    "count = 0\n",
    "for i in input:\n",
    "    if i.isdigit() == True:\n",
    "        count=+1\n",
    "        \n",
    "if count ==0:\n",
    "    print \"It does not contains digits\"\n",
    "else :\n",
    "    print \"It contains atleast one digit\"\n",
    "\n",
    "    \n"
   ]
  },
  {
   "cell_type": "code",
   "execution_count": 32,
   "metadata": {
    "collapsed": false
   },
   "outputs": [
    {
     "name": "stdout",
     "output_type": "stream",
     "text": [
      "enter a string000p\n",
      "It contains atleast one alphabet\n"
     ]
    }
   ],
   "source": [
    "#12. take a string from the user and check contains atleast one alphabets or not?\n",
    "input = raw_input(\"enter a string\")\n",
    "count = 0\n",
    "for i in input:\n",
    "    if i.isalpha() == True:\n",
    "        count=+1\n",
    "        \n",
    "if count ==0:\n",
    "    print \"It does not contains alphabets\"\n",
    "else :\n",
    "    print \"It contains atleast one alphabet\"\n"
   ]
  },
  {
   "cell_type": "code",
   "execution_count": 35,
   "metadata": {
    "collapsed": false
   },
   "outputs": [
    {
     "name": "stdout",
     "output_type": "stream",
     "text": [
      "enter a string    0\n",
      "It contains atleast one character\n"
     ]
    }
   ],
   "source": [
    "#13. take a string from the user and check contains atleast one chars or not?\n",
    "input = raw_input(\"enter a string\")\n",
    "count = 0\n",
    "for i in input:\n",
    "    if i.isspace() == False:\n",
    "        count=+1\n",
    "        \n",
    "if count ==0:\n",
    "    print \"It does not contain characters\"\n",
    "else :\n",
    "    print \"It contains atleast one character\""
   ]
  },
  {
   "cell_type": "code",
   "execution_count": 36,
   "metadata": {
    "collapsed": false
   },
   "outputs": [
    {
     "name": "stdout",
     "output_type": "stream",
     "text": [
      "enter a stringoooPP099\n",
      "It contains atleast one upper case letter\n"
     ]
    }
   ],
   "source": [
    "#14. take a string from the user and check contains atleast one capital letter or not?\n",
    "input = raw_input(\"enter a string\")\n",
    "count = 0\n",
    "for i in input:\n",
    "    if i.isupper() == True:\n",
    "        count=+1\n",
    "        \n",
    "if count ==0:\n",
    "    print \"It does not contain upper case letters\"\n",
    "else :\n",
    "    print \"It contains atleast one upper case letter\""
   ]
  },
  {
   "cell_type": "code",
   "execution_count": 37,
   "metadata": {
    "collapsed": false
   },
   "outputs": [
    {
     "name": "stdout",
     "output_type": "stream",
     "text": [
      "enter a stringPPPPoPPPP\n",
      "It contains atleast one lower case letter\n"
     ]
    }
   ],
   "source": [
    "#15. take a string from the user and check contains atleast one small letter or not?\n",
    "input = raw_input(\"enter a string\")\n",
    "count = 0\n",
    "for i in input:\n",
    "    if i.islower() == True:\n",
    "        count=+1\n",
    "        \n",
    "if count ==0:\n",
    "    print \"It does not contain lower case letters\"\n",
    "else :\n",
    "    print \"It contains atleast one lower case letter\""
   ]
  },
  {
   "cell_type": "code",
   "execution_count": null,
   "metadata": {
    "collapsed": true
   },
   "outputs": [],
   "source": [
    "#16. Take the input from the user for(Total number of people, toatl number of busses, Number of seats for bus). Based on the input\n",
    "\tDeside whether there is sufficient busses or not and give solution for how many extra busses required.\n",
    "    "
   ]
  },
  {
   "cell_type": "code",
   "execution_count": 61,
   "metadata": {
    "collapsed": false
   },
   "outputs": [
    {
     "name": "stdout",
     "output_type": "stream",
     "text": [
      "enter no of people1000\n",
      "enter no of buses10\n",
      "enter no of seats60\n",
      "need extra bus 7\n"
     ]
    }
   ],
   "source": [
    "people= int(raw_input(\"enter no of people\"))\n",
    "buses = int(raw_input(\"enter no of buses\"))\n",
    "seats = int(raw_input(\"enter no of seats\"))\n",
    "if people < buses*seats:\n",
    "    print \"existing buses are sufficient\"\n",
    "else :\n",
    "    count = buses*seats - people\n",
    "    extra_buses = -(count/seats)\n",
    "    print \"need extra bus\", extra_buses\n"
   ]
  },
  {
   "cell_type": "code",
   "execution_count": 55,
   "metadata": {
    "collapsed": false
   },
   "outputs": [],
   "source": [
    "#17. Print the first 100 odd numbers\n",
    "#[i for i in range(1,201) if i%2!=0]"
   ]
  },
  {
   "cell_type": "code",
   "execution_count": 60,
   "metadata": {
    "collapsed": false
   },
   "outputs": [
    {
     "name": "stdout",
     "output_type": "stream",
     "text": [
      "enter a number30\n",
      "factors are [2, 3, 5, 6, 10, 15]\n"
     ]
    }
   ],
   "source": [
    "#18. Determine the factors of a number entered  by the user\n",
    "num = int(raw_input(\"enter a number\"))\n",
    "l= []\n",
    "for i in range(2,num):\n",
    "    if num%i == 0:\n",
    "        l.append(i)\n",
    "print \"factors are\", l\n",
    "        "
   ]
  },
  {
   "cell_type": "code",
   "execution_count": 63,
   "metadata": {
    "collapsed": false
   },
   "outputs": [
    {
     "name": "stdout",
     "output_type": "stream",
     "text": [
      "enter a number33\n",
      "Guess number is LOWER\n"
     ]
    }
   ],
   "source": [
    "#19. Play a number guessing game (User enters a guess, you print YES or Higher or Lower)\n",
    "number = 50\n",
    "num = int(raw_input(\"enter a number\"))\n",
    "if num == number:\n",
    "    print \"correct GUESS\"\n",
    "elif num >number:\n",
    "    print \"Guess number is HIGHER\"\n",
    "else:\n",
    "    print \"Guess number is LOWER\"\n",
    "    \n"
   ]
  },
  {
   "cell_type": "code",
   "execution_count": 65,
   "metadata": {
    "collapsed": false
   },
   "outputs": [
    {
     "name": "stdout",
     "output_type": "stream",
     "text": [
      "enter a number10\n",
      "enter b number5\n",
      "a is divisible by b\n"
     ]
    }
   ],
   "source": [
    "#20. Take two numbers from the user a,b check whether a is divisible by b or not?\n",
    "a = int(raw_input(\"enter a number\"))\n",
    "b = int(raw_input(\"enter b number\"))\n",
    "if a%b==0:\n",
    "    print \"a is divisible by b\"\n",
    "else:\n",
    "    print \"a is not divisible by b\"\n",
    "    \n"
   ]
  },
  {
   "cell_type": "code",
   "execution_count": 66,
   "metadata": {
    "collapsed": false
   },
   "outputs": [
    {
     "name": "stdout",
     "output_type": "stream",
     "text": [
      "enter age60\n",
      "old\n"
     ]
    }
   ],
   "source": [
    "#21. Given an age, figure out whether someone's a baby, toddler, child, teenager, adult or old codger.\n",
    "age = int(raw_input(\"enter age\"))\n",
    "if age <=1:\n",
    "    print \"Its Baby\"\n",
    "elif age > 1 and age <=10:\n",
    "    print \"Toddler\"\n",
    "elif age >=11 and age <=19:\n",
    "    print \"Teenager\"\n",
    "elif age >=20 and age <=40:\n",
    "    print \"Adult\"\n",
    "else:\n",
    "    print \"old\""
   ]
  },
  {
   "cell_type": "code",
   "execution_count": 75,
   "metadata": {
    "collapsed": false
   },
   "outputs": [
    {
     "name": "stdout",
     "output_type": "stream",
     "text": [
      "233168\n"
     ]
    }
   ],
   "source": [
    "#22. Find the sum of all the multiples of 3 or 5 below 1000\n",
    "l=[]\n",
    "for i in range(1000):\n",
    "    if i%3==0 or i%5==0:\n",
    "        l.append(i)\n",
    "print sum(l)\n",
    "        "
   ]
  },
  {
   "cell_type": "code",
   "execution_count": 76,
   "metadata": {
    "collapsed": false
   },
   "outputs": [
    {
     "name": "stdout",
     "output_type": "stream",
     "text": [
      "enter a value10\n",
      "enter b value5\n",
      "10\n"
     ]
    }
   ],
   "source": [
    "#23. Write a program to findout big of two numbers\n",
    "a = int(raw_input(\"enter a value\"))\n",
    "b= int(raw_input(\"enter b value\"))\n",
    "print max(a,b)"
   ]
  },
  {
   "cell_type": "code",
   "execution_count": 77,
   "metadata": {
    "collapsed": false
   },
   "outputs": [
    {
     "data": {
      "text/plain": [
       "6"
      ]
     },
     "execution_count": 77,
     "metadata": {},
     "output_type": "execute_result"
    }
   ],
   "source": [
    "#24. Write a program to findout biggest number in the given numbers.\n",
    "a = [1,2,3,4,5,6]\n",
    "max(a)"
   ]
  },
  {
   "cell_type": "code",
   "execution_count": 3,
   "metadata": {
    "collapsed": false
   },
   "outputs": [
    {
     "data": {
      "text/plain": [
       "17"
      ]
     },
     "execution_count": 3,
     "metadata": {},
     "output_type": "execute_result"
    }
   ],
   "source": [
    "#25. findout third occurance of given substring\n",
    "occur = 3\n",
    "def allindices(string, sub, listindex=[], offset=0):\n",
    "    i = string.find(sub, offset)\n",
    "    while i >= 0:\n",
    "        listindex.append(i)\n",
    "        i = string.find(sub, i + 1)\n",
    "    return listindex[occur -1]\n",
    "allindices(\"bolo hello hello hello janki hello\",\"hello\")\n"
   ]
  },
  {
   "cell_type": "code",
   "execution_count": 6,
   "metadata": {
    "collapsed": false
   },
   "outputs": [
    {
     "name": "stdout",
     "output_type": "stream",
     "text": [
      "[5, 11, 17, 29]\n"
     ]
    },
    {
     "data": {
      "text/plain": [
       "29"
      ]
     },
     "execution_count": 6,
     "metadata": {},
     "output_type": "execute_result"
    }
   ],
   "source": [
    "#26. findout nth occurance of given substring\n",
    "def allindices(string, sub, listindex=[], offset=0):\n",
    "    i = string.find(sub, offset)\n",
    "    while i >= 0:\n",
    "        listindex.append(i)\n",
    "        i = string.find(sub, i + 1)\n",
    "    occur = string.count(sub)\n",
    "    print listindex\n",
    "    return listindex[occur -1]\n",
    "allindices(\"bolo hello hello hello janki hello\",\"hello\")"
   ]
  },
  {
   "cell_type": "code",
   "execution_count": 81,
   "metadata": {
    "collapsed": false
   },
   "outputs": [
    {
     "name": "stdout",
     "output_type": "stream",
     "text": [
      " Minimum number is 0\n",
      "Maximum number is 100\n",
      "sum of numbers is 136\n",
      "average of number is 22\n"
     ]
    }
   ],
   "source": [
    "#27. Taake some single digit numbers from the user and findout min, maximum, sum, average\n",
    "num = [1,10,5,20,100,0]\n",
    "print \"Minimum number is\", min(num)\n",
    "print \"Maximum number is\", max(num)\n",
    "print \"sum of numbers is\", sum(num)\n",
    "print \"average of number is\", sum(num)/len(num)"
   ]
  },
  {
   "cell_type": "code",
   "execution_count": 95,
   "metadata": {
    "collapsed": false
   },
   "outputs": [
    {
     "name": "stdout",
     "output_type": "stream",
     "text": [
      "enter a number1000\n"
     ]
    },
    {
     "data": {
      "text/plain": [
       "'001000'"
      ]
     },
     "execution_count": 95,
     "metadata": {},
     "output_type": "execute_result"
    }
   ],
   "source": [
    "#28.WAP> 10 -> 000010 100 ->  000100 1000 ->  001000 2345678  ->  2345678\n",
    "a = raw_input(\"enter a number\")\n",
    "a.zfill(6)"
   ]
  },
  {
   "cell_type": "code",
   "execution_count": 99,
   "metadata": {
    "collapsed": false
   },
   "outputs": [
    {
     "name": "stdout",
     "output_type": "stream",
     "text": [
      "emp1\n",
      "emp2\n",
      "emp3\n",
      "emp4\n"
     ]
    }
   ],
   "source": [
    "#29. names  =\"emp1,emp2,emp3,emp4\" iterate through the employee names.\n",
    "names  =\"emp1,emp2,emp3,emp4\"\n",
    "names = names.split(',')\n",
    "for i in names:\n",
    "    print i"
   ]
  },
  {
   "cell_type": "code",
   "execution_count": 9,
   "metadata": {
    "collapsed": false
   },
   "outputs": [
    {
     "name": "stdout",
     "output_type": "stream",
     "text": [
      "hello this is soundarya hello this is soundarya hello this is janaki hello this is janaki\n"
     ]
    }
   ],
   "source": [
    "#30. Take actuual string, soucrce string, destination string. replce first nth occurances of soucestring with destination string of actual string\n",
    "act = \"hello this is janaki hello this is janaki hello this is janaki hello this is janaki\"\n",
    "act = act.split()\n",
    "new=[]\n",
    "src = \"janaki\"\n",
    "dest = \"soundarya\"\n",
    "occurences = 2\n",
    "for i in act:\n",
    "    if new.count(dest)<occurences and i == src :\n",
    "        #print new.count(i)\n",
    "        i=dest\n",
    "    new.append(i)\n",
    "    #print new\n",
    "new1 = \" \".join(new)\n",
    "print new1"
   ]
  },
  {
   "cell_type": "code",
   "execution_count": null,
   "metadata": {
    "collapsed": true
   },
   "outputs": [],
   "source": [
    "#31. Taake numbers from the user and findout min, maximum, sum, average\n",
    "#same as 27"
   ]
  },
  {
   "cell_type": "code",
   "execution_count": 104,
   "metadata": {
    "collapsed": false
   },
   "outputs": [
    {
     "name": "stdout",
     "output_type": "stream",
     "text": [
      "[10, 20, 30, 40, 50, 60, 70, 80, 90, 100]\n"
     ]
    }
   ],
   "source": [
    "#32. l=[10,20,30,[40,50,60],70,[80,90,20]]. Convert this list as sigle dimentiona list\n",
    "l=[10,20,30,[40,50,60],70,[80,90,100]]\n",
    "l1=[]\n",
    "for i in l:\n",
    "    if isinstance(i,list):\n",
    "        l1.extend(i)\n",
    "    else:\n",
    "        l1.append(i)\n",
    "print l1"
   ]
  },
  {
   "cell_type": "code",
   "execution_count": 105,
   "metadata": {
    "collapsed": false
   },
   "outputs": [
    {
     "name": "stdout",
     "output_type": "stream",
     "text": [
      "enter a wordgoogle\n",
      "{'e': 1, 'o': 2, 'g': 2, 'l': 1}\n"
     ]
    }
   ],
   "source": [
    "#33. input: \"google\" print count of each character \n",
    "input = raw_input(\"enter a word\")\n",
    "d={}\n",
    "for i in input:\n",
    "    if i in d.keys():\n",
    "        d[i]+=1\n",
    "    else:\n",
    "        d[i]=1\n",
    "print d\n",
    "        "
   ]
  },
  {
   "cell_type": "code",
   "execution_count": 9,
   "metadata": {
    "collapsed": false
   },
   "outputs": [
    {
     "name": "stdout",
     "output_type": "stream",
     "text": [
      "[1, 2, 3, 4, 5, 6, 7, 8, 1, 2, 3, 4, 5, 9, 10, 11, 12, 13]\n"
     ]
    }
   ],
   "source": [
    "#34. Convert n dimentional list to single dimentiona list.\n",
    "l=[[1, 2, 3, [4, 5]], 6, 7, 8, [1, 2, 3, [4, 5]], 9, 10, [11, [12, 13]]]\n",
    "l1=[]\n",
    "for i in l:\n",
    "    if isinstance(i,list):\n",
    "        for j in i:\n",
    "            if isinstance(j,list):\n",
    "                l1.extend(j)\n",
    "            else:\n",
    "                l1.append(j)\n",
    "    else:\n",
    "        l1.append(i)\n",
    "print l1\n",
    "\n",
    "lse:\n",
    "                l1.append(j)\n",
    "    else:\n",
    "        l1.append(i)\n",
    "print l1\n",
    "\n"
   ]
  },
  {
   "cell_type": "code",
   "execution_count": 12,
   "metadata": {
    "collapsed": false
   },
   "outputs": [
    {
     "data": {
      "text/plain": [
       "'123numbers'"
      ]
     },
     "execution_count": 12,
     "metadata": {},
     "output_type": "execute_result"
    }
   ],
   "source": [
    "#35. l=[1,2,3] just make it as a string.\n",
    "l=[1,2,3,\"numbers\"]\n",
    "\"\".join(map(str,l))"
   ]
  },
  {
   "cell_type": "code",
   "execution_count": null,
   "metadata": {
    "collapsed": true
   },
   "outputs": [],
   "source": [
    "#36. l=[1,2,3,[4,5,6],7,[8,9,10]] for single dimentional list\n",
    "same as 32"
   ]
  },
  {
   "cell_type": "code",
   "execution_count": null,
   "metadata": {
    "collapsed": true
   },
   "outputs": [],
   "source": [
    "#37. l=['a','A','b','B','d','D','c','C'] WAP to find out case insensitive count and case insensitive search for an element.\n",
    "l=['a','A','B','d','D','c','C']\n",
    "ele = 'b'\n",
    "count =0\n",
    "for i in l:\n",
    "    if i.lower() == ele.lower():\n",
    "        count+=1\n",
    "kprint ele,count\n",
    "flag = False\n",
    "for i in l:\n",
    "    if ele.lower() == i.lower():\n",
    "        flag = True\n",
    "print flag"
   ]
  },
  {
   "cell_type": "code",
   "execution_count": 124,
   "metadata": {
    "collapsed": false
   },
   "outputs": [
    {
     "name": "stdout",
     "output_type": "stream",
     "text": [
      "['A', 'B', 'C', 'D', 'a', 'b', 'c', 'd']\n"
     ]
    }
   ],
   "source": [
    "#38. l=['a','A','b','B','d','D','c','C']  sort the list properly\n",
    "l=['a','A','b','B','d','D','c','C']\n",
    "l.sort()\n",
    "print l"
   ]
  },
  {
   "cell_type": "code",
   "execution_count": 21,
   "metadata": {
    "collapsed": false
   },
   "outputs": [
    {
     "name": "stdout",
     "output_type": "stream",
     "text": [
      "yyyyyyyyyyyyyyyyyyyy\n"
     ]
    }
   ],
   "source": [
    "#39. find the start position of the largest block of repeated characters in a given string\n",
    "#39. find the start position of the largest block of repeated characters in a given string\n",
    "str = \"a aa y aaba yyy aaaabaaa bbbbaaaaaaaa yyyyyyyyyyyyyyyyyyyy\"\n",
    "new=[]\n",
    "char=\"y\"\n",
    "for i in str.split(' '):\n",
    "    if len(new)>2 and i.count(char)>new.count(char):\n",
    "        new[0]=i\n",
    "    new.append(i)\n",
    "print new[0]\n"
   ]
  },
  {
   "cell_type": "code",
   "execution_count": 14,
   "metadata": {
    "collapsed": false
   },
   "outputs": [
    {
     "name": "stdout",
     "output_type": "stream",
     "text": [
      "[1, 2, 3, 4, 5, 6, 7]\n"
     ]
    }
   ],
   "source": [
    "#40. WAP to find union and intersection of lists.\n",
    "l1=[1,2,3,4,5]\n",
    "l2=[1,2,3,6,7]\n",
    "union=[]\n",
    "for i in l1:\n",
    "    if i not in union:\n",
    "        union.append(i)\n",
    "for j in l2:\n",
    "    if j not in union:\n",
    "        union.append(j)\n",
    "print union\n",
    "\n",
    "l1=[1,2,3,4,5]\n",
    "l2=[1,2,3,6,7]\n",
    "intersect=[]\n",
    "for i in l1:\n",
    "    if i in l2:\n",
    "        intersect.append(i)\n",
    "print intersect"
   ]
  },
  {
   "cell_type": "code",
   "execution_count": 18,
   "metadata": {
    "collapsed": false
   },
   "outputs": [
    {
     "name": "stdout",
     "output_type": "stream",
     "text": [
      "[1, 2, 3, 4, 3, 2, 1]\n"
     ]
    }
   ],
   "source": [
    "#41. input: fun(5) output: [1,2,3,4,3,2,1]\n",
    "def fun(a):\n",
    "    b=[]\n",
    "    for i in range(1,a):\n",
    "        b.append(i)\n",
    "        if i == a-1:\n",
    "            for i in range(i-1,0,-1):\n",
    "                b.append(i)\n",
    "    return b\n",
    "print fun(5)\n",
    "            \n",
    "        "
   ]
  },
  {
   "cell_type": "code",
   "execution_count": null,
   "metadata": {
    "collapsed": true
   },
   "outputs": [],
   "source": [
    "#42.input fun('abc') output: [[],][a],[b],[c],[a,b],[b,c],[c,a],[a,b,c]]"
   ]
  },
  {
   "cell_type": "code",
   "execution_count": 125,
   "metadata": {
    "collapsed": false
   },
   "outputs": [
    {
     "name": "stdout",
     "output_type": "stream",
     "text": [
      "[1, 2, 3, 4]\n"
     ]
    }
   ],
   "source": [
    "#43. Remove duplicates from the list: a=[1,2,3,2,3,4,1,,3,4]\n",
    "a=[1,2,3,3,4,1,3,4]\n",
    "b=[]\n",
    "for i in a:\n",
    "    if i not in b:\n",
    "        b.append(i)\n",
    "print b"
   ]
  },
  {
   "cell_type": "code",
   "execution_count": 127,
   "metadata": {
    "collapsed": false
   },
   "outputs": [
    {
     "name": "stdout",
     "output_type": "stream",
     "text": [
      "6\n"
     ]
    }
   ],
   "source": [
    "#44. l=['1','2','3'] get the sum of the list\n",
    "l=[1,2,3]\n",
    "count =0\n",
    "for i in l:\n",
    "    count = count+i\n",
    "print count"
   ]
  },
  {
   "cell_type": "code",
   "execution_count": 128,
   "metadata": {
    "collapsed": false
   },
   "outputs": [
    {
     "data": {
      "text/plain": [
       "[6, 8, 10, 12]"
      ]
     },
     "execution_count": 128,
     "metadata": {},
     "output_type": "execute_result"
    }
   ],
   "source": [
    "#45. l1=[1,2,3,4] l2=[5,6,7,8] sum of two lists\n",
    "l1=[1,2,3,4]\n",
    "l2=[5,6,7,8]\n",
    "[i+j for i,j in zip(l1,l2)]\n"
   ]
  },
  {
   "cell_type": "code",
   "execution_count": 132,
   "metadata": {
    "collapsed": false
   },
   "outputs": [
    {
     "name": "stdout",
     "output_type": "stream",
     "text": [
      "10\n"
     ]
    }
   ],
   "source": [
    "#46. Find third max value of element in a list with soring and without sorting a list.\n",
    "l=[1,10,2,9,3,8,4,7,5,6,0,18,19]\n",
    "#using sort\n",
    "l.sort()\n",
    "max_value = 3\n",
    "for i in range(3):\n",
    "    a=l.pop()\n",
    "print a\n",
    "#without sort\n",
    "for i in range(3):\n",
    "    a= max(l)\n",
    "    l.remove(a)\n",
    "print a\n",
    "#for sorting a string\n",
    "a=[1,9,2,8,3,7,4,6,5,0]\n",
    "for i in range(len(a)):\n",
    "        for j in range(len(a) - 1):\n",
    "            if a[j] > a[j+1]:\n",
    "                a[j+1], a[j] = a[j], a[j+1]\n"
   ]
  },
  {
   "cell_type": "code",
   "execution_count": null,
   "metadata": {
    "collapsed": true
   },
   "outputs": [],
   "source": [
    "#47. Input = [\"1/1\",\"1/2\",\"1/3\",\"1/4\",\"2/5\",\"2/6\",\"2/8\"] Output = [['1/1-4'], ['2/5-6'], ['2/8']]"
   ]
  },
  {
   "cell_type": "code",
   "execution_count": null,
   "metadata": {
    "collapsed": true
   },
   "outputs": [],
   "source": [
    "#48.l=[1,2,3,5,7,8,9,10,11,12,13,20,22,23,24,25,26,27,20,21,22,4] output = [[1, 2, 3], [5], [7, 8, 9, 10, 11, 12, 13], [20], [22, 23, 24, 25, 26, 27], [20, 21, 22], [4]]"
   ]
  },
  {
   "cell_type": "code",
   "execution_count": null,
   "metadata": {
    "collapsed": true
   },
   "outputs": [],
   "source": [
    "#49. input = 1,2,3,4,5,6,8,10 output = odd,even,odd,even,odd,even,even,even\n",
    "input = 1,2,3,4,5,6,8,10\n",
    "for i in input:\n",
    "    if i%2==0:\n",
    "        print \"even\"\n",
    "    else:\n",
    "        print \"odd\""
   ]
  },
  {
   "cell_type": "code",
   "execution_count": null,
   "metadata": {
    "collapsed": true
   },
   "outputs": [],
   "source": [
    "#50.50. input n=3 \n",
    "    output: \t111\n",
    "\t\t101\n",
    "\t\t111"
   ]
  },
  {
   "cell_type": "code",
   "execution_count": 6,
   "metadata": {
    "collapsed": false
   },
   "outputs": [
    {
     "name": "stdout",
     "output_type": "stream",
     "text": [
      "{'e': 1, 'o': 1, 'g': 1, 'l': 1}\n"
     ]
    }
   ],
   "source": [
    "#51.input: google\n",
    "#output: {'g':2,'o':2,'l':1,'e':1} use dictionary comprehension\n",
    "        \n",
    "words = \"google\"\n",
    "dict2 = {}\n",
    "dict2  = { w: 1 if not dict2.get(w) else dict2.get(w) + 1\n",
    "            for w in words }\n",
    "print(dict2)"
   ]
  },
  {
   "cell_type": "code",
   "execution_count": 15,
   "metadata": {
    "collapsed": false
   },
   "outputs": [
    {
     "name": "stdout",
     "output_type": "stream",
     "text": [
      "{'k2': 'v2', 'k1': 'v1'}\n"
     ]
    }
   ],
   "source": [
    "#52. keys=['k1','k2'], values = ['v1','v2'] form a dictionary.\n",
    "keys=['k1','k2']\n",
    "values=['v1','v2']\n",
    "dictionary = dict(zip(keys,values))\n",
    "print dictionary\n"
   ]
  },
  {
   "cell_type": "code",
   "execution_count": null,
   "metadata": {
    "collapsed": true
   },
   "outputs": [],
   "source": [
    "#53. Sort the list marks = [(\"mohan\", 80), (\"satish\", 90), (\"purnesh\", 40), (\"venkat\", 30)] acording to descending order of marks"
   ]
  },
  {
   "cell_type": "code",
   "execution_count": 19,
   "metadata": {
    "collapsed": false
   },
   "outputs": [
    {
     "name": "stdout",
     "output_type": "stream",
     "text": [
      "[('satish', 90), ('mohan', 80), ('purnesh', 40), ('venkat', 30)]\n"
     ]
    }
   ],
   "source": [
    "marks = [(\"mohan\", 80), (\"satish\", 90), (\"purnesh\", 40), (\"venkat\", 30)]\n",
    "for i in range(len(marks)):\n",
    "    for j in range(len(marks)-1):\n",
    "        if marks[j][1]<marks[j+1][1]:\n",
    "            marks[j+1],marks[j]=marks[j],marks[j+1]\n",
    "print marks\n"
   ]
  },
  {
   "cell_type": "code",
   "execution_count": 4,
   "metadata": {
    "collapsed": false
   },
   "outputs": [
    {
     "name": "stdout",
     "output_type": "stream",
     "text": [
      "0.0\n",
      "0.1\n",
      "0.2\n",
      "0.3\n",
      "0.4\n",
      "0.5\n",
      "0.6\n",
      "0.7\n",
      "0.8\n",
      "0.9\n"
     ]
    }
   ],
   "source": [
    "#54. write a function to get dynamic list for floating numbers also based on strat and end and step parameters\n",
    "r=map(lambda x: x/10.0,range(0,10))\n",
    "for i in r:\n",
    "    print i"
   ]
  },
  {
   "cell_type": "code",
   "execution_count": null,
   "metadata": {
    "collapsed": true
   },
   "outputs": [],
   "source": [
    "#55. find out all perfect numbers in given range\n",
    "#perfect number\n",
    "l=[]\n",
    "num=28\n",
    "for i in range(1,num):\n",
    "    if num%i==0:\n",
    "        l.append(i)\n",
    "print l\n",
    "        "
   ]
  },
  {
   "cell_type": "code",
   "execution_count": 1,
   "metadata": {
    "collapsed": false
   },
   "outputs": [
    {
     "name": "stdout",
     "output_type": "stream",
     "text": [
      "true\n"
     ]
    }
   ],
   "source": [
    "#56. WAP to do all stack operations using lists\n",
    "class Stack:\n",
    "    def __init__(self):\n",
    "        self.items = []\n",
    "\n",
    "    def push(self, item):\n",
    "         self.items.insert(0,item)\n",
    "\n",
    "    def pop(self):\n",
    "         return self.items.pop(0)\n",
    "\n",
    "    def peek(self):\n",
    "        return self.items[0]\n",
    "    def size(self):\n",
    "        return len(self.items)\n",
    "\n",
    "s = Stack()\n",
    "s.push('hello')\n",
    "s.push('true')\n",
    "print(s.pop())"
   ]
  },
  {
   "cell_type": "code",
   "execution_count": 3,
   "metadata": {
    "collapsed": false
   },
   "outputs": [
    {
     "name": "stdout",
     "output_type": "stream",
     "text": [
      "[4]\n",
      "['dog', 4]\n",
      "[True, 'dog', 4]\n",
      "3\n"
     ]
    }
   ],
   "source": [
    "#57.57. WAP to do all queue operations using lists\n",
    "class Queue:\n",
    "    def __init__(self):\n",
    "        self.items = []\n",
    "\n",
    "    def enqueue(self, item):\n",
    "        self.items.insert(0,item)\n",
    "        print self.items\n",
    "\n",
    "    def dequeue(self):\n",
    "        self.items.pop()\n",
    "        print self.items\n",
    "\n",
    "    def size(self):\n",
    "        return len(self.items)\n",
    "\n",
    "q=Queue()\n",
    "q.enqueue(4)\n",
    "q.enqueue('dog')\n",
    "q.enqueue(True)\n",
    "print(q.size())\n",
    "\n"
   ]
  },
  {
   "cell_type": "code",
   "execution_count": 12,
   "metadata": {
    "collapsed": false
   },
   "outputs": [
    {
     "name": "stdout",
     "output_type": "stream",
     "text": [
      "hello this is janaki hello this is janaki hello this is  hello this is \n"
     ]
    }
   ],
   "source": [
    "#58. WAP to remove n occurances of specified element from a list\n",
    "act = \"hello this is janaki hello this is janaki hello this is janaki hello this is janaki\"\n",
    "act = act.split()\n",
    "new=[]\n",
    "occurences = 2\n",
    "for i in act:\n",
    "    if new.count(\"janaki\")>occurences-1 and i == \"janaki\" :\n",
    "        i=\"\"\n",
    "    new.append(i)\n",
    "    #print new\n",
    "new1 = \" \".join(new)\n",
    "print new1"
   ]
  },
  {
   "cell_type": "code",
   "execution_count": 3,
   "metadata": {
    "collapsed": false
   },
   "outputs": [
    {
     "name": "stdout",
     "output_type": "stream",
     "text": [
      "[1, 2, 3, 4, 5]\n"
     ]
    }
   ],
   "source": [
    "##77. Remove duplicates elements of the list withoud using built in keywords and temporary list.\n",
    "l=[1,2,3,4,5,2,3,4,5,3,4,5,4,5,5,1,2,3,4,5,2,3,4,5,3,4,5,4,5,5]\n",
    "for i in l:\n",
    "    if l.count(i)>1:\n",
    "        for j in range(l.count(i)-1):\n",
    "            l.remove(i)\n",
    "print l"
   ]
  },
  {
   "cell_type": "code",
   "execution_count": 4,
   "metadata": {
    "collapsed": false
   },
   "outputs": [
    {
     "name": "stdout",
     "output_type": "stream",
     "text": [
      "hell0 g00d m0rning\n"
     ]
    }
   ],
   "source": [
    "#78. WAP to replace perticular number of substings with a given destination string\n",
    "string = list('hello good morning')\n",
    "result = []\n",
    "for i in string:\n",
    "        #print i\n",
    "        if i == 'o':\n",
    "                i = '0'\n",
    "        result.append(i)\n",
    "print ''.join(result)"
   ]
  },
  {
   "cell_type": "code",
   "execution_count": 10,
   "metadata": {
    "collapsed": false
   },
   "outputs": [
    {
     "name": "stdout",
     "output_type": "stream",
     "text": [
      "hell gd mrning\n"
     ]
    }
   ],
   "source": [
    "#79. WAP top remove substring form the given string without using replace function\n",
    "string = list('hello good morning')\n",
    "#print string\n",
    "result = []\n",
    "for i in string:\n",
    "        #print i\n",
    "        if i == 'o':\n",
    "                i = ''\n",
    "        result.append(i)\n",
    "print ''.join(result)"
   ]
  },
  {
   "cell_type": "code",
   "execution_count": 6,
   "metadata": {
    "collapsed": false
   },
   "outputs": [
    {
     "name": "stdout",
     "output_type": "stream",
     "text": [
      "[1, 2, 4, 5, 1, 2, 4, 5]\n"
     ]
    }
   ],
   "source": [
    "#80  WAP to remove perticular element from a given list for all occurancers\n",
    "l=[1,2,3,4,5,1,2,3,4,5]\n",
    "for i in l:\n",
    "    if i == 3:\n",
    "        l.remove(i)\n",
    "print l"
   ]
  },
  {
   "cell_type": "code",
   "execution_count": 7,
   "metadata": {
    "collapsed": true
   },
   "outputs": [],
   "source": [
    "#81. take two lists keys, values and form a dictionary\n",
    "#same as 52"
   ]
  },
  {
   "cell_type": "code",
   "execution_count": 1,
   "metadata": {
    "collapsed": false
   },
   "outputs": [
    {
     "name": "stdout",
     "output_type": "stream",
     "text": [
      "['this', 'is', 'first', 'line', '']\n",
      "['']\n",
      "no of lines is  2\n",
      "no of words is 6\n",
      "no of characters is 19\n"
     ]
    }
   ],
   "source": [
    "#61. number of lines, words, characters\n",
    "data =\"this is first line \\n\"\n",
    "lines = data.split(\"\\n\")\n",
    "word_count = 0\n",
    "char_count =0\n",
    "for i in lines:\n",
    "    words = i.split(' ')\n",
    "    print words\n",
    "    word_count+=len(words)\n",
    "    w = \" \".join(words)\n",
    "    for char in w:\n",
    "        char_count+=1\n",
    "\n",
    "print \"no of lines is \",len(lines)\n",
    "print \"no of words is\",word_count\n",
    "print \"no of characters is\", char_count"
   ]
  },
  {
   "cell_type": "code",
   "execution_count": 20,
   "metadata": {
    "collapsed": false
   },
   "outputs": [
    {
     "name": "stdout",
     "output_type": "stream",
     "text": [
      "yyyyyyyyyyyyyyyyyyyy\n"
     ]
    }
   ],
   "source": [
    "\n"
   ]
  }
 ],
 "metadata": {
  "kernelspec": {
   "display_name": "Python 2",
   "language": "python",
   "name": "python2"
  },
  "language_info": {
   "codemirror_mode": {
    "name": "ipython",
    "version": 2
   },
   "file_extension": ".py",
   "mimetype": "text/x-python",
   "name": "python",
   "nbconvert_exporter": "python",
   "pygments_lexer": "ipython2",
   "version": "2.7.13"
  }
 },
 "nbformat": 4,
 "nbformat_minor": 2
}
