{
 "cells": [
  {
   "cell_type": "code",
   "execution_count": 1,
   "metadata": {
    "collapsed": false
   },
   "outputs": [
    {
     "name": "stdout",
     "output_type": "stream",
     "text": [
      "(<__main__.Emp instance at 0x0000000004468988>, 'emp_name', 123)\n"
     ]
    },
    {
     "ename": "NameError",
     "evalue": "global name 'oper1' is not defined",
     "output_type": "error",
     "traceback": [
      "\u001b[0;31m---------------------------------------------------------------------------\u001b[0m",
      "\u001b[0;31mNameError\u001b[0m                                 Traceback (most recent call last)",
      "\u001b[0;32m<ipython-input-1-90ead7b403cb>\u001b[0m in \u001b[0;36m<module>\u001b[0;34m()\u001b[0m\n\u001b[1;32m     10\u001b[0m \u001b[1;33m\u001b[0m\u001b[0m\n\u001b[1;32m     11\u001b[0m \u001b[0memp_ins\u001b[0m \u001b[1;33m=\u001b[0m \u001b[0mEmp\u001b[0m\u001b[1;33m(\u001b[0m\u001b[1;33m)\u001b[0m\u001b[1;33m\u001b[0m\u001b[0m\n\u001b[0;32m---> 12\u001b[0;31m \u001b[0memp_ins\u001b[0m\u001b[1;33m.\u001b[0m\u001b[0moperations\u001b[0m\u001b[1;33m(\u001b[0m\u001b[1;34m\"emp_name\"\u001b[0m\u001b[1;33m,\u001b[0m\u001b[1;36m123\u001b[0m\u001b[1;33m)\u001b[0m\u001b[1;33m\u001b[0m\u001b[0m\n\u001b[0m",
      "\u001b[0;32m<ipython-input-1-90ead7b403cb>\u001b[0m in \u001b[0;36moperations\u001b[0;34m(*a)\u001b[0m\n\u001b[1;32m      6\u001b[0m     \u001b[1;32mdef\u001b[0m \u001b[0moperations\u001b[0m\u001b[1;33m(\u001b[0m\u001b[1;33m*\u001b[0m\u001b[0ma\u001b[0m\u001b[1;33m)\u001b[0m\u001b[1;33m:\u001b[0m\u001b[1;33m\u001b[0m\u001b[0m\n\u001b[1;32m      7\u001b[0m         \u001b[1;32mprint\u001b[0m \u001b[0ma\u001b[0m\u001b[1;33m\u001b[0m\u001b[0m\n\u001b[0;32m----> 8\u001b[0;31m         \u001b[0moper1\u001b[0m\u001b[1;33m(\u001b[0m\u001b[1;33m)\u001b[0m\u001b[1;33m\u001b[0m\u001b[0m\n\u001b[0m\u001b[1;32m      9\u001b[0m         \u001b[0moper2\u001b[0m\u001b[1;33m(\u001b[0m\u001b[1;33m)\u001b[0m\u001b[1;33m\u001b[0m\u001b[0m\n\u001b[1;32m     10\u001b[0m \u001b[1;33m\u001b[0m\u001b[0m\n",
      "\u001b[0;31mNameError\u001b[0m: global name 'oper1' is not defined"
     ]
    }
   ],
   "source": [
    "class Emp:\n",
    "    def oper1(*a):\n",
    "        print \"oper1\"\n",
    "    def oper2(*a):\n",
    "        print \"oper2\"\n",
    "    def operations(*a):\n",
    "        print a\n",
    "        oper1()\n",
    "        oper2()\n",
    "        \n",
    "emp_ins = Emp()\n",
    "emp_ins.operations(\"emp_name\",123)"
   ]
  },
  {
   "cell_type": "code",
   "execution_count": 3,
   "metadata": {
    "collapsed": false
   },
   "outputs": [
    {
     "name": "stdout",
     "output_type": "stream",
     "text": [
      "9\n"
     ]
    }
   ],
   "source": [
    "a=[1,9,2,8,3,7,4,6,5,0]\n",
    "for i in range(len(a)):\n",
    "        for j in range(len(a) - 1):\n",
    "            if a[j] > a[j+1]:\n",
    "                a[j+1], a[j] = a[j], a[j+1]\n",
    "print a[-1]"
   ]
  },
  {
   "cell_type": "code",
   "execution_count": 6,
   "metadata": {
    "collapsed": false
   },
   "outputs": [
    {
     "name": "stdout",
     "output_type": "stream",
     "text": [
      "enter list of numbers10 100 1000 123456\n",
      "['10', '100', '1000', '123456']\n"
     ]
    }
   ],
   "source": [
    "a = raw_input(\"enter list of numbers\")\n",
    "l = a.split( )\n",
    "print l"
   ]
  },
  {
   "cell_type": "code",
   "execution_count": 2,
   "metadata": {
    "collapsed": false
   },
   "outputs": [
    {
     "name": "stdout",
     "output_type": "stream",
     "text": [
      "(<__main__.Emp instance at 0x0000000005C64848>, 'emp_name', 123)\n"
     ]
    }
   ],
   "source": [
    "class Emp:\n",
    "    def set_emp(*data):\n",
    "        print data\n",
    "emp_ins = Emp()\n",
    "emp_ins.set_emp(\"emp_name\",123)"
   ]
  },
  {
   "cell_type": "code",
   "execution_count": null,
   "metadata": {
    "collapsed": true
   },
   "outputs": [],
   "source": [
    "class Emp:\n",
    "    name = \"Anil\"\n",
    "    e_id = 123\n",
    "    "
   ]
  },
  {
   "cell_type": "code",
   "execution_count": 7,
   "metadata": {
    "collapsed": false
   },
   "outputs": [
    {
     "name": "stdout",
     "output_type": "stream",
     "text": [
      "True\n"
     ]
    }
   ],
   "source": [
    "l=['a','A','B','d','D','c','C']\n",
    "ele = 'b'\n",
    "count =0\n",
    "#for i in l:\n",
    "#    if i.lower() == ele.lower():\n",
    "#        count+=1\n",
    "#print ele,count\n",
    "flag = False\n",
    "for i in l:\n",
    "    if ele.lower() == i.lower():\n",
    "        flag = True\n",
    "print flag\n",
    "        "
   ]
  },
  {
   "cell_type": "code",
   "execution_count": null,
   "metadata": {
    "collapsed": true
   },
   "outputs": [],
   "source": [
    "data = [\"ba\",\"aac\",\"abacad\"]\n",
    "for i in data:\n",
    "    "
   ]
  },
  {
   "cell_type": "code",
   "execution_count": 12,
   "metadata": {
    "collapsed": false
   },
   "outputs": [
    {
     "name": "stdout",
     "output_type": "stream",
     "text": [
      "2\n"
     ]
    }
   ],
   "source": [
    "input fun('abc') output: [[],[a],[b],[c],[a,b],[b,c],[c,a],[a,b,c]]\n",
    "def fun(ab):\n",
    "    for i in range(len(ab)):\n",
    "        if i ==0:\n",
    "            l.append([])\n",
    "        else:\n",
    "            for i in len(ab):\n",
    "                l.append([i])\n",
    "                \n",
    "        \n",
    "    \n",
    "            \n",
    "            \n",
    "        "
   ]
  },
  {
   "cell_type": "code",
   "execution_count": 14,
   "metadata": {
    "collapsed": false
   },
   "outputs": [
    {
     "name": "stdout",
     "output_type": "stream",
     "text": [
      "all the operations were successfull\n"
     ]
    }
   ],
   "source": [
    "import psycopg2\n",
    "def db_connect():\n",
    "    con=psycopg2.connect(user=\"postgres\",password=\"postgres\",port=5432,database=\"Test\")\n",
    "    cur=con.cursor()\n",
    "    return con,cur\n",
    "def create_table():\n",
    "    con,cur=db_connect()\n",
    "    query=\"create table user_details (id int, name varchar(50))\"\n",
    "    cur.execute(query)\n",
    "    con.commit()\n",
    "def insert_values():\n",
    "    con,cur=db_connect()\n",
    "    query= \"insert into user_details values (1,'janaki')\"\n",
    "    query1=\"insert into user_details values(2,'soundarya')\"\n",
    "    cur.execute(query)\n",
    "    cur.execute(query1)\n",
    "    con.commit()\n",
    "def update_values():\n",
    "    con,cur=db_connect()\n",
    "    query= \"update user_details SET name = 'janaki soundarya' where id = 1\"\n",
    "    cur.execute(query)\n",
    "    con.commit()\n",
    "def delete_values():\n",
    "    con,cur = db_connect()\n",
    "    query= \"DELETE FROM user_details WHERE id = 1\"\n",
    "    cur.execute(query)\n",
    "    con.commit()\n",
    "db_connect()\n",
    "create_table()\n",
    "insert_values()\n",
    "update_values()\n",
    "delete_values()\n",
    "print \"all the operations were successfull\""
   ]
  },
  {
   "cell_type": "markdown",
   "metadata": {},
   "source": [
    "a = 10\n",
    "print a"
   ]
  },
  {
   "cell_type": "code",
   "execution_count": 15,
   "metadata": {
    "collapsed": false
   },
   "outputs": [
    {
     "name": "stdout",
     "output_type": "stream",
     "text": [
      "10\n"
     ]
    }
   ],
   "source": [
    "a = 10\n",
    "print a"
   ]
  },
  {
   "cell_type": "code",
   "execution_count": 27,
   "metadata": {
    "collapsed": false
   },
   "outputs": [
    {
     "name": "stdout",
     "output_type": "stream",
     "text": [
      "this is constructor\n",
      "creating lun\n",
      "{'iolimit': 200, 'thick': 'no', 'thin': 'yes'}\n"
     ]
    }
   ],
   "source": [
    "class Lun:\n",
    "    def __init__(self,lunname,lunsize,pool,**kwargs):\n",
    "        self.lunname=lunname\n",
    "        self.lunsize=lunsize\n",
    "        self.pool=pool\n",
    "        self.context= kwargs\n",
    "        print \"this is constructor\"\n",
    "    def create(self,):\n",
    "        print \"creating lun\"\n",
    "        print self.context\n",
    "        return 20\n",
    "    \n",
    "    \n",
    "lun1=Lun(lunname='lun1',lunsize=\"20M\",pool=\"pool1\",iolimit=200, thin=\"yes\",thick = \"no\")\n",
    "lunid = lun1.create()"
   ]
  },
  {
   "cell_type": "code",
   "execution_count": 28,
   "metadata": {
    "collapsed": false
   },
   "outputs": [
    {
     "name": "stdout",
     "output_type": "stream",
     "text": [
      "creating lun\n",
      "10\n"
     ]
    }
   ],
   "source": [
    "\n",
    "class Lun:\n",
    "    def __init__(self,lunname,lunsize,pool,iolimit=10,thin=\"yes\"):\n",
    "        \"\"\"\n",
    "        params: lunname,lunsize,pool, [iolimit,thin]\n",
    "        \"\"\"\n",
    "        self.lunname=lunname\n",
    "        self.lunsize=lunsize\n",
    "        self.pool=pool\n",
    "        self.iolimit = iolimit\n",
    "        self.thin=thin\n",
    "    def create(self,):\n",
    "        print \"creating lun\"\n",
    "        print self.iolimit\n",
    "        return 20\n",
    "    \n",
    "    \n",
    "lun1=Lun(lunname='lun1',lunsize=\"20M\",pool=\"pool1\",iolimit=200, thin=\"yes\",)\n",
    "lun1=Lun(lunname='lun1',lunsize=\"20M\",pool=\"pool1\")\n",
    "lunid = lun1.create()"
   ]
  },
  {
   "cell_type": "code",
   "execution_count": 30,
   "metadata": {
    "collapsed": false
   },
   "outputs": [
    {
     "ename": "TypeError",
     "evalue": "__init__() got an unexpected keyword argument 'id'",
     "output_type": "error",
     "traceback": [
      "\u001b[0;31m---------------------------------------------------------------------------\u001b[0m",
      "\u001b[0;31mTypeError\u001b[0m                                 Traceback (most recent call last)",
      "\u001b[0;32m<ipython-input-30-216c0d2d968d>\u001b[0m in \u001b[0;36m<module>\u001b[0;34m()\u001b[0m\n\u001b[1;32m      9\u001b[0m     \u001b[1;32mdef\u001b[0m \u001b[0mget_details\u001b[0m\u001b[1;33m(\u001b[0m\u001b[0mself\u001b[0m\u001b[1;33m)\u001b[0m\u001b[1;33m:\u001b[0m\u001b[1;33m\u001b[0m\u001b[0m\n\u001b[1;32m     10\u001b[0m         \u001b[1;32mreturn\u001b[0m \u001b[0mid\u001b[0m\u001b[1;33m,\u001b[0m\u001b[0mname\u001b[0m\u001b[1;33m,\u001b[0m\u001b[0mage\u001b[0m\u001b[1;33m,\u001b[0m\u001b[0msal\u001b[0m\u001b[1;33m\u001b[0m\u001b[0m\n\u001b[0;32m---> 11\u001b[0;31m \u001b[0mp1\u001b[0m\u001b[1;33m=\u001b[0m\u001b[0mPersons\u001b[0m\u001b[1;33m(\u001b[0m\u001b[0mid\u001b[0m\u001b[1;33m=\u001b[0m\u001b[1;36m1\u001b[0m\u001b[1;33m,\u001b[0m\u001b[0mname\u001b[0m\u001b[1;33m=\u001b[0m\u001b[1;34m'janaki'\u001b[0m\u001b[1;33m,\u001b[0m\u001b[0mage\u001b[0m\u001b[1;33m=\u001b[0m\u001b[1;36m25\u001b[0m\u001b[1;33m,\u001b[0m\u001b[0msal\u001b[0m\u001b[1;33m=\u001b[0m\u001b[1;36m10000\u001b[0m\u001b[1;33m)\u001b[0m\u001b[1;33m\u001b[0m\u001b[0m\n\u001b[0m\u001b[1;32m     12\u001b[0m \u001b[1;33m\u001b[0m\u001b[0m\n",
      "\u001b[0;31mTypeError\u001b[0m: __init__() got an unexpected keyword argument 'id'"
     ]
    }
   ],
   "source": [
    "class Persons:\n",
    "    def __init__(self,*kwargs):\n",
    "        self.id=id\n",
    "        self.name=name\n",
    "        self.age=age\n",
    "        self.sal=sal\n",
    "        self.adhar=adhar\n",
    "        self.pan=pan\n",
    "    def get_details(self):\n",
    "        return id,name,age,sal\n",
    "p1=Persons(id=1,name='janaki',age=25,sal=10000)\n",
    "    "
   ]
  },
  {
   "cell_type": "code",
   "execution_count": 36,
   "metadata": {
    "collapsed": false
   },
   "outputs": [
    {
     "name": "stdout",
     "output_type": "stream",
     "text": [
      "[4]\n",
      "['dog', 4]\n",
      "[True, 'dog', 4]\n",
      "3\n"
     ]
    },
    {
     "data": {
      "text/plain": [
       "<bound method Queue.dequeue of <__main__.Queue instance at 0x0000000005B1CE88>>"
      ]
     },
     "execution_count": 36,
     "metadata": {},
     "output_type": "execute_result"
    }
   ],
   "source": [
    "class Queue:\n",
    "    def __init__(self):\n",
    "        self.items = []\n",
    "\n",
    "    def isEmpty(self):\n",
    "        return self.items == []\n",
    "\n",
    "    def enqueue(self, item):\n",
    "        self.items.insert(0,item)\n",
    "        print self.items\n",
    "\n",
    "    def dequeue(self):\n",
    "        self.items.pop()\n",
    "        print self.items\n",
    "\n",
    "    def size(self):\n",
    "        return len(self.items)\n",
    "\n",
    "q=Queue()\n",
    "q.enqueue(4)\n",
    "q.enqueue('dog')\n",
    "q.enqueue(True)\n",
    "print(q.size())\n",
    "\n"
   ]
  },
  {
   "cell_type": "code",
   "execution_count": 39,
   "metadata": {
    "collapsed": false
   },
   "outputs": [
    {
     "name": "stdout",
     "output_type": "stream",
     "text": [
      "[1, 2, 4, 7, 14]\n"
     ]
    }
   ],
   "source": [
    "#perfect number\n",
    "l=[]\n",
    "num=28\n",
    "for i in range(1,num):\n",
    "    if num%i==0:\n",
    "        l.append(i)\n",
    "print l\n",
    "        \n"
   ]
  },
  {
   "cell_type": "code",
   "execution_count": 45,
   "metadata": {
    "collapsed": false
   },
   "outputs": [
    {
     "name": "stdout",
     "output_type": "stream",
     "text": [
      "1\n",
      "2.0\n",
      "3.0\n",
      "4.0\n",
      "5.0\n",
      "6.0\n",
      "7.0\n",
      "8.0\n",
      "9.0\n"
     ]
    }
   ],
   "source": [
    "def frange(a, b, stp=1.0):\n",
    "  i = a+stp/2.0\n",
    "  while i<b:\n",
    "    yield a\n",
    "    a += stp\n",
    "    i += stp\n",
    "\n",
    "\n",
    "for i in frange(1,10):\n",
    "    print i\n",
    "    "
   ]
  },
  {
   "cell_type": "code",
   "execution_count": 46,
   "metadata": {
    "collapsed": false
   },
   "outputs": [
    {
     "name": "stdout",
     "output_type": "stream",
     "text": [
      "0.0\n",
      "0.1\n",
      "0.2\n",
      "0.3\n",
      "0.4\n",
      "0.5\n",
      "0.6\n",
      "0.7\n",
      "0.8\n",
      "0.9\n"
     ]
    }
   ],
   "source": [
    "r=map(lambda x: x/10.0,range(0,10))\n",
    "for i in r:\n",
    "    print i"
   ]
  },
  {
   "cell_type": "code",
   "execution_count": 64,
   "metadata": {
    "collapsed": false
   },
   "outputs": [
    {
     "name": "stdout",
     "output_type": "stream",
     "text": [
      "{'e': 1, 'o': 1, 'g': 1, 'l': 1}\n"
     ]
    }
   ],
   "source": [
    "words = \"google\"\n",
    "dict2 = {}\n",
    "dict2  = { w: 1 if not dict2.get(w) else dict2.get(w) + 1\n",
    "            for w in words }\n",
    "print(dict2)"
   ]
  },
  {
   "cell_type": "code",
   "execution_count": 71,
   "metadata": {
    "collapsed": false
   },
   "outputs": [
    {
     "name": "stdout",
     "output_type": "stream",
     "text": [
      "1\n",
      "2\n",
      "3\n",
      "4\n"
     ]
    }
   ],
   "source": [
    "##39. find the start position of the largest block of repeated characters in a given string\n",
    "str = \"a aa baaa cbaaaa\"\n",
    "str1=\"\"\n",
    "for i in str.split():\n",
    "    \n",
    "    \n",
    "    "
   ]
  },
  {
   "cell_type": "code",
   "execution_count": 78,
   "metadata": {
    "collapsed": false
   },
   "outputs": [
    {
     "name": "stdout",
     "output_type": "stream",
     "text": [
      "hello this is janaki hello this is janaki hello this is janaki\n"
     ]
    }
   ],
   "source": [
    "act = \"hello this is janaki hello this is janaki hello this is janaki\"\n",
    "new=[]\n",
    "src = \"janaki\"\n",
    "dest = \"soundarya\"\n",
    "for i in act:\n",
    "    if i == \"janaki\":\n",
    "        i = \"\"\n",
    "    new.append(i)\n",
    "new = \"\".join(new)\n",
    "print new\n",
    "    "
   ]
  },
  {
   "cell_type": "code",
   "execution_count": 80,
   "metadata": {
    "collapsed": false
   },
   "outputs": [
    {
     "name": "stdout",
     "output_type": "stream",
     "text": [
      "10\n"
     ]
    }
   ],
   "source": [
    "a=10\n",
    "print a"
   ]
  },
  {
   "cell_type": "code",
   "execution_count": 104,
   "metadata": {
    "collapsed": false
   },
   "outputs": [],
   "source": [
    "act = \"hello this is janaki hello this is janaki hello this is janaki hello this is janaki\"\n",
    "act = act.split()\n",
    "new=[]\n",
    "for i in act:\n",
    "    \n",
    "    "
   ]
  },
  {
   "cell_type": "code",
   "execution_count": 9,
   "metadata": {
    "collapsed": false
   },
   "outputs": [
    {
     "name": "stdout",
     "output_type": "stream",
     "text": [
      "2\n",
      "['hello', 'hello', 'hello', 'janaki']\n"
     ]
    }
   ],
   "source": [
    "act = \"hello hello hello janaki\"\n",
    "sub = \"hello\"\n",
    "new=[]\n",
    "act = act.split()\n",
    "for i in act:\n",
    "    if new.count(sub)==2:\n",
    "        print len(new)\n",
    "    new.append(i)\n",
    "print new"
   ]
  },
  {
   "cell_type": "code",
   "execution_count": 15,
   "metadata": {
    "collapsed": false
   },
   "outputs": [
    {
     "data": {
      "text/plain": [
       "8"
      ]
     },
     "execution_count": 15,
     "metadata": {},
     "output_type": "execute_result"
    }
   ],
   "source": [
    "occur = 3\n",
    "def allindices(string, sub, listindex=[], offset=0):\n",
    "    i = string.find(sub, offset)\n",
    "    while i >= 0:\n",
    "        listindex.append(i)\n",
    "        i = string.find(sub, i + 1)\n",
    "    return listindex[occur-1]\n",
    "allindices(\"bolohellohellohellojankihello\",\"o\")"
   ]
  },
  {
   "cell_type": "code",
   "execution_count": 33,
   "metadata": {
    "collapsed": false
   },
   "outputs": [
    {
     "name": "stdout",
     "output_type": "stream",
     "text": [
      "['this', 'is', 'first', 'line', '']\n",
      "['']\n",
      "no of lines is  2\n",
      "no of words is 6\n",
      "no of characters is 19\n"
     ]
    }
   ],
   "source": [
    "data =\"this is first line \\n\"\n",
    "lines = data.split(\"\\n\")\n",
    "word_count = 0\n",
    "char_count =0\n",
    "for i in lines:\n",
    "    words = i.split(' ')\n",
    "    print words\n",
    "    word_count+=len(words)\n",
    "    w = \" \".join(words)\n",
    "    for char in w:\n",
    "        char_count+=1\n",
    "\n",
    "print \"no of lines is \",len(lines)\n",
    "print \"no of words is\",word_count\n",
    "print \"no of characters is\", char_count\n",
    "\n",
    "        \n",
    "        "
   ]
  },
  {
   "cell_type": "code",
   "execution_count": 42,
   "metadata": {
    "collapsed": false
   },
   "outputs": [
    {
     "name": "stdout",
     "output_type": "stream",
     "text": [
      "[[], ['a'], ['b'], ['c']]\n"
     ]
    }
   ],
   "source": [
    "#42.input fun('abc') output: [[],][a],[b],[c],[a,b],[b,c],[c,a],[a,b,c]]\n",
    "output=[[]]\n",
    "def fun(data):\n",
    "    for i in data:\n",
    "        output.append([i])\n",
    "    print output\n",
    "fun(\"abc\")\n",
    "        \n",
    "        "
   ]
  },
  {
   "cell_type": "code",
   "execution_count": 9,
   "metadata": {
    "collapsed": false
   },
   "outputs": [
    {
     "name": "stdout",
     "output_type": "stream",
     "text": [
      "60\n",
      "<__main__.data instance at 0x00000000043DC588>\n"
     ]
    }
   ],
   "source": [
    "class data:\n",
    "    def add(s,add,sub,mul):\n",
    "         print add+sub+mul\n",
    "    \n",
    "        \n",
    "obj1 = data()\n",
    "obj1.add(10,20,30)\n",
    "print obj1\n",
    "        "
   ]
  },
  {
   "cell_type": "code",
   "execution_count": 10,
   "metadata": {
    "collapsed": false
   },
   "outputs": [
    {
     "name": "stdout",
     "output_type": "stream",
     "text": [
      "(110, 220)\n"
     ]
    }
   ],
   "source": [
    "\n",
    "class c1:\n",
    "    def __init__(self,a,b):\n",
    "        self.a=a\n",
    "        self.b=b\n",
    "    def __add__(obj1,obj2):\n",
    "        return obj1.a+obj2.a,obj1.b+obj2.b\n",
    "    def __sub__(obj1,obj2):\n",
    "        return \"sdfdsf\"\n",
    "o1=c1(10,20)\n",
    "o2=c1(100,200)\n",
    "print o1+o2"
   ]
  },
  {
   "cell_type": "code",
   "execution_count": 12,
   "metadata": {
    "collapsed": false
   },
   "outputs": [
    {
     "name": "stdout",
     "output_type": "stream",
     "text": [
      "{'price': 33, 'product': 30}\n"
     ]
    }
   ],
   "source": [
    "class my_dict(dict):\n",
    "    def __init__(self,data):\n",
    "        super(my_dict,self).__init__(data)\n",
    "        \n",
    "    def __add__(d1,d2):\n",
    "        d={}\n",
    "        for i in d1.keys():\n",
    "            d.update({i:d1[i]+d2[i]})\n",
    "        return d\n",
    "m1 = my_dict({\"price\":10,\"product\": 10})\n",
    "m2=my_dict({'price':23,\"product\":20})\n",
    "print m1+m2"
   ]
  },
  {
   "cell_type": "code",
   "execution_count": 39,
   "metadata": {
    "collapsed": false
   },
   "outputs": [
    {
     "name": "stdout",
     "output_type": "stream",
     "text": [
      "Visits: 60, Contacts: 60\n",
      "Visits: -40, Contacts: -40\n",
      "Visits: 6000, Contacts: 6000\n"
     ]
    }
   ],
   "source": [
    "class Day(object): \n",
    "    def __init__(self, visits, contacts): \n",
    "        self.visits = visits \n",
    "        self.contacts = contacts \n",
    "    def __add__(self, other): \n",
    "        total_visits = self.visits + other.visits \n",
    "        total_contacts = self.contacts + other.contacts \n",
    "        return Day(total_visits, total_contacts)\n",
    "    def __sub__(self, other): \n",
    "        total_visits = self.visits - other.visits \n",
    "        total_contacts = self.contacts - other.contacts \n",
    "        return Day(total_visits, total_contacts) \n",
    "    def __mul__(self, other): \n",
    "        total_visits = self.visits * other.visits \n",
    "        total_contacts = self.contacts * other.contacts \n",
    "        return Day(total_visits, total_contacts) \n",
    "    \n",
    "    def __str__(self): \n",
    "        return \"Visits: %i, Contacts: %i\" % (self.visits, self.contacts) \n",
    "day1 = Day(10,10)\n",
    "day2 = Day(20,20)\n",
    "day3= Day(30,30)\n",
    "\n",
    "print day1+day2+day3\n",
    "print day1-day2-day3\n",
    "print day1*day2*day3\n",
    "\n",
    "\n",
    "    "
   ]
  },
  {
   "cell_type": "code",
   "execution_count": 47,
   "metadata": {
    "collapsed": false
   },
   "outputs": [
    {
     "name": "stdout",
     "output_type": "stream",
     "text": [
      "TCS: 150, Defects: 150\n",
      "TCS: 110, Defects: 110\n",
      "TCS: 2030, Defects: 2030\n"
     ]
    }
   ],
   "source": [
    "class Day(object): \n",
    "    def __init__(self, tcs, defects): \n",
    "        self.tcs = tcs\n",
    "        self.defects = defects\n",
    "    def __add__(self, other): \n",
    "        total_tcs = self.tcs + other.tcs\n",
    "        total_defects = self.defects + other.defects \n",
    "        return Day(total_tcs, total_defects)\n",
    "    def __sub__(self, other): \n",
    "        total_tcs = self.tcs - other.tcs \n",
    "        total_defects = self.defects - other.defects \n",
    "        return Day(total_tcs, total_defects) \n",
    "    def __mul__(self, other): \n",
    "        total_tcs = self.tcs * other.tcs \n",
    "        total_defects = self.defects * other.defects \n",
    "        return Day(total_tcs, total_defects) \n",
    "    def __str__(self): \n",
    "        return \"TCS: %i, Defects: %i\" % (self.tcs, self.defects)\n",
    "     \n",
    "day1 = Day(100,100)\n",
    "day2 = Day(20,20)\n",
    "day3= Day(30,30)\n",
    "\n",
    "print day1+day2+day3\n",
    "print day1-day2+day3\n",
    "print day1*day2+day3\n"
   ]
  },
  {
   "cell_type": "code",
   "execution_count": 52,
   "metadata": {
    "collapsed": false
   },
   "outputs": [
    {
     "name": "stdout",
     "output_type": "stream",
     "text": [
      "executing foo(<__main__.A object at 0x00000000059D5BA8>,1)\n",
      "executing class_foo(<class '__main__.A'>,1)\n",
      "executing class_foo(<class '__main__.A'>,1)\n",
      "executing static_foo(1)\n",
      "executing static_foo(hi)\n"
     ]
    }
   ],
   "source": [
    "#https://julien.danjou.info/blog/2013/guide-python-static-class-abstract-methods\n",
    "class A(object):\n",
    "    def foo(self,x):\n",
    "        print \"executing foo(%s,%s)\"%(self,x)\n",
    "\n",
    "    @classmethod\n",
    "    def class_foo(cls,x):\n",
    "        print \"executing class_foo(%s,%s)\"%(cls,x)\n",
    "\n",
    "    @staticmethod\n",
    "    def static_foo(x):\n",
    "        print \"executing static_foo(%s)\"%x    \n",
    "\n",
    "a=A()\n",
    "a.foo(1)\n",
    "A.class_foo(1)\n",
    "a.class_foo(1)\n",
    "a.static_foo(1)\n",
    "A.static_foo('hi')"
   ]
  },
  {
   "cell_type": "code",
   "execution_count": 51,
   "metadata": {
    "collapsed": false
   },
   "outputs": [
    {
     "name": "stdout",
     "output_type": "stream",
     "text": [
      "{'price': 33, 'product': 30}\n",
      "{'price': -13, 'product': -10}\n",
      "{'price': 230, 'product': 200}\n"
     ]
    }
   ],
   "source": [
    "class my_dict(dict):\n",
    "    def __init__(self,data):\n",
    "        super(my_dict,self).__init__(data)\n",
    "        \n",
    "    def __add__(d1,d2):\n",
    "        d={}\n",
    "        for i in d1.keys():\n",
    "            d.update({i:d1[i]+d2[i]})\n",
    "        return d\n",
    "    def __sub__(d1,d2):\n",
    "        d={}\n",
    "        for i in d1.keys():\n",
    "            d.update({i:d1[i]-d2[i]})\n",
    "        return d\n",
    "    def __mul__(d1,d2):\n",
    "        d={}\n",
    "        for i in d1.keys():\n",
    "            d.update({i:d1[i]*d2[i]})\n",
    "        return d\n",
    "    \n",
    "m1 = my_dict({\"price\":10,\"product\": 10})\n",
    "m2=my_dict({'price':23,\"product\":20})\n",
    "print m1+m2\n",
    "print m1-m2\n",
    "print m1*m2"
   ]
  },
  {
   "cell_type": "code",
   "execution_count": 3,
   "metadata": {
    "collapsed": false
   },
   "outputs": [
    {
     "name": "stdout",
     "output_type": "stream",
     "text": [
      "program strted\n",
      "other statements in program\n",
      "this first function\n",
      "function ended\n",
      "1\n",
      "program ended\n"
     ]
    }
   ],
   "source": [
    "print \"program strted\"\n",
    "def fun():\n",
    "    print \"this first function\"\n",
    "    print \"function ended\"\n",
    "    return 1\n",
    "print \"other statements in program\"\n",
    "print fun()\n",
    "print \"program ended\""
   ]
  },
  {
   "cell_type": "code",
   "execution_count": 12,
   "metadata": {
    "collapsed": false
   },
   "outputs": [
    {
     "name": "stdout",
     "output_type": "stream",
     "text": [
      "a=10,b=20\n",
      "<function fun at 0x00000000059E3DD8> <type 'function'>\n",
      "hello <type 'str'>\n"
     ]
    }
   ],
   "source": [
    "def fun(a,b):\n",
    "    print \"a=%d,b=%d\"%(a,b)\n",
    "    return \"hello\"\n",
    "c=fun\n",
    "d=fun(10,20)\n",
    "print c,type(c)\n",
    "print d,type(d)"
   ]
  },
  {
   "cell_type": "code",
   "execution_count": 29,
   "metadata": {
    "collapsed": false
   },
   "outputs": [
    {
     "name": "stdout",
     "output_type": "stream",
     "text": [
      "5\n",
      "5\n"
     ]
    }
   ],
   "source": [
    "myGlobal = 5\n",
    "\n",
    "def func1():\n",
    "    print myGlobal\n",
    "    #a = myGlobal\n",
    "    #print a+10\n",
    "\n",
    "def func2():\n",
    "    print myGlobal\n",
    "\n",
    "func1()\n",
    "func2()"
   ]
  },
  {
   "cell_type": "code",
   "execution_count": 32,
   "metadata": {
    "collapsed": false
   },
   "outputs": [
    {
     "name": "stdout",
     "output_type": "stream",
     "text": [
      "50\n",
      "60\n",
      "50\n"
     ]
    }
   ],
   "source": [
    "x = 50\n",
    " \n",
    "def func():\n",
    "    global x\n",
    "    print x\n",
    "    print x+10\n",
    "func()\n",
    "print x"
   ]
  },
  {
   "cell_type": "code",
   "execution_count": 37,
   "metadata": {
    "collapsed": false
   },
   "outputs": [
    {
     "name": "stdout",
     "output_type": "stream",
     "text": [
      "1\n"
     ]
    }
   ],
   "source": [
    "def f(): \n",
    "    print(s1) \n",
    "#f()\n",
    "s1 = 1\n",
    "f()"
   ]
  },
  {
   "cell_type": "code",
   "execution_count": 40,
   "metadata": {
    "collapsed": false
   },
   "outputs": [
    {
     "name": "stdout",
     "output_type": "stream",
     "text": [
      "I love London!\n",
      "I love Paris!\n",
      "I love London!\n"
     ]
    }
   ],
   "source": [
    "def f(): \n",
    "    #print(s)\n",
    "    s = \"I love London!\"\n",
    "    print(s)\n",
    "f()\n",
    "s = \"I love Paris!\"\n",
    "print s\n",
    "f()"
   ]
  },
  {
   "cell_type": "code",
   "execution_count": 51,
   "metadata": {
    "collapsed": false
   },
   "outputs": [
    {
     "name": "stdout",
     "output_type": "stream",
     "text": [
      "<function <lambda> at 0x000000000440BE48>\n"
     ]
    }
   ],
   "source": [
    "def writer():\n",
    "    title = 'Sir'\n",
    "    name = (lambda x:title + ' ' + x)\n",
    "    return name\n",
    "a =writer() \n",
    "print a\n",
    "#who = writer()\n",
    "#who('Arthur')"
   ]
  },
  {
   "cell_type": "code",
   "execution_count": 52,
   "metadata": {
    "collapsed": false
   },
   "outputs": [
    {
     "name": "stdout",
     "output_type": "stream",
     "text": [
      "Test message\n",
      "None\n"
     ]
    }
   ],
   "source": [
    "def transmit_to_space(message):\n",
    "    \"This is the enclosing function\"\n",
    "    def data_transmitter():\n",
    "        \"The nested function\"\n",
    "        print(message)\n",
    "\n",
    "    data_transmitter()\n",
    "\n",
    "print(transmit_to_space(\"Test message\"))"
   ]
  },
  {
   "cell_type": "code",
   "execution_count": 53,
   "metadata": {
    "collapsed": false
   },
   "outputs": [
    {
     "name": "stdout",
     "output_type": "stream",
     "text": [
      "Test message\n",
      "hello\n"
     ]
    }
   ],
   "source": [
    "def transmit_to_space(message):\n",
    "    \"This is the enclosing function\"\n",
    "    def data_transmitter():\n",
    "        \"The nested function\"\n",
    "        print(message)\n",
    "\n",
    "    data_transmitter()\n",
    "    return \"hello\"\n",
    "\n",
    "print(transmit_to_space(\"Test message\"))"
   ]
  },
  {
   "cell_type": "code",
   "execution_count": 57,
   "metadata": {
    "collapsed": false
   },
   "outputs": [
    {
     "name": "stdout",
     "output_type": "stream",
     "text": [
      "3\n",
      "9\n"
     ]
    }
   ],
   "source": [
    "def print_msg(number):\n",
    "    def printer():\n",
    "        \n",
    "        global number\n",
    "        number=3\n",
    "        print(number)\n",
    "    printer()\n",
    "    print(number)\n",
    "\n",
    "print_msg(9)"
   ]
  },
  {
   "cell_type": "code",
   "execution_count": 63,
   "metadata": {
    "collapsed": false
   },
   "outputs": [
    {
     "name": "stdout",
     "output_type": "stream",
     "text": [
      "outer\n",
      "inner\n",
      "None\n"
     ]
    }
   ],
   "source": [
    "def outer():\n",
    "    print \"outer\"\n",
    "    def inner():\n",
    "        print \"inner\"\n",
    "    return inner\n",
    "f=outer()\n",
    "a =f()\n",
    "print a"
   ]
  },
  {
   "cell_type": "code",
   "execution_count": 68,
   "metadata": {
    "collapsed": false
   },
   "outputs": [
    {
     "name": "stdout",
     "output_type": "stream",
     "text": [
      "<function inner_func at 0x000000000440BE48>\n",
      "hello\n"
     ]
    }
   ],
   "source": [
    "def outer_func():\n",
    "    message = \"hello\"\n",
    "    def inner_func():\n",
    "        print message\n",
    "    return inner_func\n",
    "\n",
    "my_func=outer_func()    \n",
    "print my_func\n",
    "my_func()\n",
    "        "
   ]
  },
  {
   "cell_type": "code",
   "execution_count": 72,
   "metadata": {
    "collapsed": false
   },
   "outputs": [
    {
     "data": {
      "text/plain": [
       "'inner'"
      ]
     },
     "execution_count": 72,
     "metadata": {},
     "output_type": "execute_result"
    }
   ],
   "source": [
    "def outer():\n",
    "    def inner():\n",
    "        return \"inner\"\n",
    "    def inner1():\n",
    "        return \"inner1\"\n",
    "    return inner, inner1,\"outer\"\n",
    "f=outer()\n",
    "f[0]()"
   ]
  },
  {
   "cell_type": "code",
   "execution_count": 4,
   "metadata": {
    "collapsed": false
   },
   "outputs": [
    {
     "name": "stdout",
     "output_type": "stream",
     "text": [
      "hello\n"
     ]
    }
   ],
   "source": [
    "def outer(msg):\n",
    "    message = msg\n",
    "    def inner():\n",
    "        print message\n",
    "    return inner\n",
    "f = outer(\"hello\")\n",
    "f()"
   ]
  },
  {
   "cell_type": "code",
   "execution_count": 5,
   "metadata": {
    "collapsed": false
   },
   "outputs": [
    {
     "data": {
      "text/plain": [
       "[7, 9, 11, 13, 15]"
      ]
     },
     "execution_count": 5,
     "metadata": {},
     "output_type": "execute_result"
    }
   ],
   "source": [
    "l1=[1,2,3,4,5]\n",
    "l2=[6,7,8,9,10]\n",
    "#res=[7,9,11,13,15]\n",
    "map(lambda x,y:x+y,l1,l2)"
   ]
  },
  {
   "cell_type": "code",
   "execution_count": 9,
   "metadata": {
    "collapsed": false
   },
   "outputs": [
    {
     "data": {
      "text/plain": [
       "20"
      ]
     },
     "execution_count": 9,
     "metadata": {},
     "output_type": "execute_result"
    }
   ],
   "source": [
    "f=lambda x: 10 if 0 else 20\n",
    "f(0)\n"
   ]
  },
  {
   "cell_type": "code",
   "execution_count": 27,
   "metadata": {
    "collapsed": false
   },
   "outputs": [
    {
     "name": "stdout",
     "output_type": "stream",
     "text": [
      "[1, 2, 3, 4, 5, 6, 7, 8, 9, 10]\n"
     ]
    }
   ],
   "source": [
    "#l = [1,[1,[1,[1,[1]]]]]\n",
    "l=[1,2,3,[4,[5,6,[7,[8,9,[10]]]]]]\n",
    "def getAsList(l):\n",
    "     r =[]\n",
    "     #print r\n",
    "     for i in l:\n",
    "        if type(i) == list:\n",
    "            r.extend(getAsList(i))\n",
    "        else:\n",
    "           r.append(i)\n",
    "           #print r\n",
    "     return r\n",
    "\n",
    "\n",
    "print getAsList(l)"
   ]
  },
  {
   "cell_type": "code",
   "execution_count": 34,
   "metadata": {
    "collapsed": false
   },
   "outputs": [
    {
     "name": "stdout",
     "output_type": "stream",
     "text": [
      "[]\n",
      "[]\n",
      "[]\n",
      "[]\n",
      "[]\n",
      "[]\n",
      "[1, 2, 3, 4, 5, 6, 7, 8, 9, 10]\n"
     ]
    }
   ],
   "source": [
    "l=[1,2,3,[4,[5,6,[7,[8,9,[10]]]]]]\n",
    "def fun1(l):\n",
    "    r=[]\n",
    "    print r\n",
    "    for i in l:\n",
    "        if type(i) == list:\n",
    "            r.extend(fun1(i))\n",
    "        else:\n",
    "            r.append(i)\n",
    "            #print r\n",
    "    return r\n",
    "print fun1(l)"
   ]
  },
  {
   "cell_type": "code",
   "execution_count": 39,
   "metadata": {
    "collapsed": false
   },
   "outputs": [],
   "source": [
    "def simple_generator_function():\n",
    "    yield 1\n",
    "    yield 2\n",
    "    yield 3\n",
    "    yield 4\n",
    "    yield 5\n"
   ]
  },
  {
   "cell_type": "code",
   "execution_count": 40,
   "metadata": {
    "collapsed": false
   },
   "outputs": [
    {
     "name": "stdout",
     "output_type": "stream",
     "text": [
      "1\n",
      "2\n",
      "3\n",
      "4\n",
      "5\n"
     ]
    }
   ],
   "source": [
    "for value in simple_generator_function():\n",
    "    print value"
   ]
  },
  {
   "cell_type": "code",
   "execution_count": 43,
   "metadata": {
    "collapsed": false
   },
   "outputs": [
    {
     "name": "stdout",
     "output_type": "stream",
     "text": [
      "<generator object fun at 0x0000000005ACF438>\n",
      "[1, 2, 3, 4]\n"
     ]
    },
    {
     "ename": "StopIteration",
     "evalue": "",
     "output_type": "error",
     "traceback": [
      "\u001b[0;31m---------------------------------------------------------------------------\u001b[0m",
      "\u001b[0;31mStopIteration\u001b[0m                             Traceback (most recent call last)",
      "\u001b[0;32m<ipython-input-43-8d30a2c99b21>\u001b[0m in \u001b[0;36m<module>\u001b[0;34m()\u001b[0m\n\u001b[1;32m      4\u001b[0m \u001b[1;32mprint\u001b[0m \u001b[0ml\u001b[0m\u001b[1;33m\u001b[0m\u001b[0m\n\u001b[1;32m      5\u001b[0m \u001b[1;32mprint\u001b[0m \u001b[0ml\u001b[0m\u001b[1;33m.\u001b[0m\u001b[0mnext\u001b[0m\u001b[1;33m(\u001b[0m\u001b[1;33m)\u001b[0m\u001b[1;33m\u001b[0m\u001b[0m\n\u001b[0;32m----> 6\u001b[0;31m \u001b[1;32mprint\u001b[0m \u001b[0ml\u001b[0m\u001b[1;33m.\u001b[0m\u001b[0mnext\u001b[0m\u001b[1;33m(\u001b[0m\u001b[1;33m)\u001b[0m\u001b[1;33m\u001b[0m\u001b[0m\n\u001b[0m",
      "\u001b[0;31mStopIteration\u001b[0m: "
     ]
    }
   ],
   "source": [
    "def fun():\n",
    "    yield [1,2,3,4]\n",
    "l=fun()\n",
    "print l\n",
    "print l.next()\n",
    "print l.next()"
   ]
  },
  {
   "cell_type": "code",
   "execution_count": 48,
   "metadata": {
    "collapsed": false
   },
   "outputs": [
    {
     "data": {
      "text/plain": [
       "[(10, 100), (20, 200), (30, 300), (4, 400), (None, 200)]"
      ]
     },
     "execution_count": 48,
     "metadata": {},
     "output_type": "execute_result"
    }
   ],
   "source": [
    "\n",
    "def fun(a,b):\n",
    "    #print a,b\n",
    "    return a,b\n",
    "map(fun,[10,20,30,4],[100,200,300,400,200])\n"
   ]
  },
  {
   "cell_type": "code",
   "execution_count": 5,
   "metadata": {
    "collapsed": false
   },
   "outputs": [],
   "source": [
    "import math \n",
    "x=[1,3,4,5]\n",
    "y=[2,5,3,3]\n",
    "n=len(x) \n",
    "def exp1(x,y): \n",
    "    c=0 \n",
    "    for i,j in zip(x,y): \n",
    "        c=c+(i*j) \n",
    "    return c  \n",
    " \n",
    "def exp2(f): \n",
    "    d=0 \n",
    "    for i in f: \n",
    "        d=d+i \n",
    "    return d \n",
    "     \n",
    "def exp3(f): \n",
    "    e=0 \n",
    "    for i in f:         \n",
    "        e=e+(i*i) \n",
    "    return e     \n",
    " \n",
    "value1=exp1(x,y)-(exp2(x)*exp2(y))/n \n",
    "value2=exp3(x)-(exp2(x)**2)/n \n",
    "value3=exp3(y)-(exp2(y)**2)/n \n",
    "result=value1/math.sqrt(value2*value3) \n",
    "\n"
   ]
  },
  {
   "cell_type": "code",
   "execution_count": null,
   "metadata": {
    "collapsed": true
   },
   "outputs": [],
   "source": [
    "class Day(object): \n",
    "    def __init__(self, tcs, defects): \n",
    "        self.tcs = tcs\n",
    "        self.defects = defects\n",
    "    def __add__(self, other): \n",
    "        total_tcs = self.tcs + other.tcs\n",
    "        total_defects = self.defects + other.defects \n",
    "        return Day(total_tcs, total_defects)\n",
    "    def __sub__(self, other): \n",
    "        total_tcs = self.tcs - other.tcs \n",
    "        total_defects = self.defects - other.defects \n",
    "        return Day(total_tcs, total_defects) \n",
    "    def __mul__(self, other): \n",
    "        total_tcs = self.tcs * other.tcs \n",
    "        total_defects = self.defects * other.defects \n",
    "        return Day(total_tcs, total_defects) \n",
    "    def __str__(self): \n",
    "        return \"TCS: %i, Defects: %i\" % (self.tcs, self.defects)\n",
    "     \n",
    "day1 = Day(100,100)\n",
    "day2 = Day(20,20)\n",
    "day3= Day(30,30)\n",
    "\n",
    "print day1+day2+day3\n",
    "print day1-day2+day3\n",
    "print day1*day2+day3"
   ]
  },
  {
   "cell_type": "code",
   "execution_count": 15,
   "metadata": {
    "collapsed": false
   },
   "outputs": [
    {
     "name": "stdout",
     "output_type": "stream",
     "text": [
      "first normal arg: yasoob\n",
      "('python', 'eggs', 'test')\n",
      "another arg through *argv : python\n",
      "another arg through *argv : eggs\n",
      "another arg through *argv : test\n"
     ]
    }
   ],
   "source": [
    "def test_var_args(f_arg, *args):\n",
    "    print \"first normal arg:\", f_arg\n",
    "    print args\n",
    "    for arg in args:\n",
    "        print \"another arg through *argv :\", arg\n",
    "\n",
    "test_var_args('yasoob','python','eggs','test')"
   ]
  },
  {
   "cell_type": "code",
   "execution_count": 20,
   "metadata": {
    "collapsed": false
   },
   "outputs": [
    {
     "name": "stdout",
     "output_type": "stream",
     "text": [
      "10\n",
      "(20, 30)\n",
      "{'name': 'janaki'}\n"
     ]
    }
   ],
   "source": [
    "def greet_me(a,*args,**kwargs):\n",
    "        print a\n",
    "        print args\n",
    "        print kwargs\n",
    "greet_me(10,20,30,name=\"janaki\")\n"
   ]
  },
  {
   "cell_type": "code",
   "execution_count": 23,
   "metadata": {
    "collapsed": true
   },
   "outputs": [],
   "source": [
    "f = open(\"file.txt\",\"r\")\n",
    "f1 = open(\"file2.txt\",\"w\")\n",
    "data = f.readlines()\n",
    "for i in data:\n",
    "    f1.writelines(i)\n",
    "f1.close()\n",
    "f.close()\n",
    "    \n",
    "    "
   ]
  },
  {
   "cell_type": "code",
   "execution_count": 25,
   "metadata": {
    "collapsed": false
   },
   "outputs": [
    {
     "name": "stdout",
     "output_type": "stream",
     "text": [
      "Source    Target  Value\n",
      "B cells Streptococcus pneumoniae    226\n",
      "B cells Candida albicans    136\n",
      "B cells Mycoplasma  120\n",
      "<type 'str'>\n",
      "Source    Target  Value\n",
      "\n",
      "<type 'str'>\n",
      "['Source    Target  Value\\n', 'B cells Streptococcus pneumoniae    226\\n', 'B cells Candida albicans    136\\n', 'B cells Mycoplasma  120']\n",
      "<type 'list'>\n"
     ]
    }
   ],
   "source": [
    "f = open(\"file.txt\",\"r\")\n",
    "data1 = f.read()\n",
    "print data1\n",
    "print type(data1)\n",
    "f.close()\n",
    "f = open(\"file.txt\",\"r\")\n",
    "data2 = f.readline()\n",
    "print data2\n",
    "print type(data2)\n",
    "f.close()\n",
    "f = open(\"file.txt\",\"r\")\n",
    "data3 = f.readlines()\n",
    "print data3\n",
    "print type(data3)\n",
    "f.close()\n"
   ]
  },
  {
   "cell_type": "code",
   "execution_count": null,
   "metadata": {
    "collapsed": false
   },
   "outputs": [],
   "source": [
    "import os.path\n",
    "while True:\n",
    "    source = raw_input(\"enter the source file name\")\n",
    "    target = raw_input(\"enter the target file name\")\n",
    "    if os.path.exists(source) == False:\n",
    "        print \"source file does not exists. Please enter a new file \"\n",
    "        continue\n",
    "    elif os.path.exists(target) == True:\n",
    "        print \"target file already exists\"\n",
    "        text = raw_input(\"enter moveon if you want to continue with the same file or give another file\")\n",
    "        if text == \"moveon\":\n",
    "            f = open(source,\"r\")\n",
    "            f1 = open(target,\"w\")\n",
    "            data = f.read()\n",
    "            for i in data:\n",
    "                f1.write(i)\n",
    "            f1.close()\n",
    "            f.close()\n",
    "            break\n",
    "        else:\n",
    "            continue\n",
    "\n"
   ]
  },
  {
   "cell_type": "code",
   "execution_count": 2,
   "metadata": {
    "collapsed": false
   },
   "outputs": [
    {
     "name": "stdout",
     "output_type": "stream",
     "text": [
      "[1, 2, 3, 4, 5, 6]\n",
      "4\n"
     ]
    }
   ],
   "source": [
    "l=[1,2,3,4,4,5,6]\n",
    "l1=[]\n",
    "for i in l:\n",
    "    if i not in l1:\n",
    "        l1.append(i)\n",
    "print l1\n",
    "print l1[-3]"
   ]
  },
  {
   "cell_type": "code",
   "execution_count": null,
   "metadata": {
    "collapsed": true
   },
   "outputs": [],
   "source": [
    "import os.path\n",
    "n=1\n",
    "while n<2:\n",
    "    source = raw_input(\"enter source file path\")\n",
    "    target = raw_input(\"enter target file path\")\n",
    "    if os.path.exists(source):\n",
    "        sf = open(source,\"r\")\n",
    "        tf = open(target,\"w\")\n",
    "        data = sf.read()\n",
    "        for i in data:\n",
    "            tf.write(i)\n",
    "        tf.close()\n",
    "        sf.close()\n",
    "    else:\n",
    "        ff = open(\"final_data\",\"w\")\n",
    "        ff.write()\n",
    "        \n",
    "        \n"
   ]
  },
  {
   "cell_type": "code",
   "execution_count": 2,
   "metadata": {
    "collapsed": false
   },
   "outputs": [
    {
     "name": "stdout",
     "output_type": "stream",
     "text": [
      "Enter the string:abc\n",
      "[['a', 'b'], ['b', 'c'], ['c', 'a'], ['a', 'b', 'c'], []]\n"
     ]
    }
   ],
   "source": [
    "def fun(f):\n",
    "    n=0\n",
    "    list1=[]\n",
    "    for a in range(len(f)+1):\n",
    "        if a<len(f)-1:\n",
    "            p=f[n+1]\n",
    "            d=f[n]+f[n+1]\n",
    "            list1.append(list(d))\n",
    "            n=n+1\n",
    "        elif a==len(f)-1:\n",
    "            d=p+f[0]\n",
    "            list1.append(list(d))\n",
    "        else:\n",
    "            list1.append(list(f))\n",
    "    else:\n",
    "        list1.append([])\n",
    "        print list1 \n",
    "f=raw_input('Enter the string:')\n",
    "fun(f)  \n"
   ]
  },
  {
   "cell_type": "code",
   "execution_count": 11,
   "metadata": {
    "collapsed": false
   },
   "outputs": [
    {
     "data": {
      "text/plain": [
       "[[1, 2],\n",
       " [3, 5],\n",
       " [7, 8],\n",
       " [9, 10],\n",
       " [11, 12],\n",
       " [13, 20],\n",
       " [22, 23],\n",
       " [24, 25],\n",
       " [26, 27],\n",
       " [20, 21],\n",
       " [22, 4]]"
      ]
     },
     "execution_count": 11,
     "metadata": {},
     "output_type": "execute_result"
    }
   ],
   "source": [
    "def split(arr, size):\n",
    "     arrs = []\n",
    "     while len(arr) > size:\n",
    "         pice = arr[:size]\n",
    "         arrs.append(pice)\n",
    "         arr   = arr[size:]\n",
    "     arrs.append(arr)\n",
    "     return arrs\n",
    "\n",
    "l=[1,2,3,5,7,8,9,10,11,12,13,20,22,23,24,25,26,27,20,21,22,4]\n",
    "\n",
    "split(l,2)"
   ]
  },
  {
   "cell_type": "code",
   "execution_count": 17,
   "metadata": {
    "collapsed": false
   },
   "outputs": [
    {
     "name": "stdout",
     "output_type": "stream",
     "text": [
      "111\n",
      "111\n",
      "111\n"
     ]
    }
   ],
   "source": [
    "n =3\n",
    "for i in range(3):\n",
    "    print \"1\" *3\n",
    "    "
   ]
  },
  {
   "cell_type": "code",
   "execution_count": 20,
   "metadata": {
    "collapsed": false
   },
   "outputs": [],
   "source": [
    "l = [[1, 2], [2, 3], [4, 5]]\n",
    "\n",
    "out = open('out.csv', 'w')\n",
    "for row in l:\n",
    "    for column in row:\n",
    "        out.write('%d \\t' % column)\n",
    "    out.write('\\n')\n",
    "out.close()"
   ]
  },
  {
   "cell_type": "code",
   "execution_count": 23,
   "metadata": {
    "collapsed": false
   },
   "outputs": [
    {
     "name": "stdout",
     "output_type": "stream",
     "text": [
      "[(0, 'pizza'), (1, 'pasta'), (2, 'salad'), (3, 'nachos')]\n",
      "1 pizza\n",
      "2 pasta\n",
      "3 salad\n",
      "4 nachos\n"
     ]
    }
   ],
   "source": [
    "choices = ['pizza', 'pasta', 'salad', 'nachos']\n",
    "print list(enumerate(choices))\n",
    "for index, item in enumerate(choices, 1):\n",
    "    print index, item\n",
    "#[(0, 'pizza'), (1, 'pasta'), (2, 'salad'), (3, 'nachos')]"
   ]
  },
  {
   "cell_type": "code",
   "execution_count": 33,
   "metadata": {
    "collapsed": false
   },
   "outputs": [
    {
     "name": "stdout",
     "output_type": "stream",
     "text": [
      "pyexcel sheet:\n",
      "+---+---+\n",
      "| 1 | 2 |\n",
      "+---+---+\n",
      "| 2 | 3 |\n",
      "+---+---+\n",
      "| 4 | 5 |\n",
      "+---+---+\n"
     ]
    }
   ],
   "source": [
    "import pyexcel as pe\n",
    "data=[[1, 2], [2, 3], [4, 5]]\n",
    "sheet = pe.Sheet(data)\n",
    "print sheet\n",
    "sheet.save_as(\"one.csv\")\n",
    "\n"
   ]
  },
  {
   "cell_type": "code",
   "execution_count": 34,
   "metadata": {
    "collapsed": true
   },
   "outputs": [],
   "source": [
    "l = [[1, 2], [2, 3], [4, 5]]\n",
    "\n",
    "out = open('out.csv', 'w')\n",
    "for row in l:\n",
    "    for column in row:\n",
    "        out.write('%d' % column)\n",
    "    out.write('\\n')\n",
    "out.close()"
   ]
  },
  {
   "cell_type": "code",
   "execution_count": 36,
   "metadata": {
    "collapsed": false
   },
   "outputs": [],
   "source": [
    "import csv\n",
    "employees = [\n",
    "    'name1-surname1-place1',\n",
    "    'name2-surname2-place2',\n",
    "    'name3-surname3-place3',\n",
    "    'name4-surname4-place4',]\n",
    "with open('out.csv', 'w') as out:\n",
    "    writer = csv.writer(out)\n",
    "    for e in employees:\n",
    "        writer.writerow(e.split(\"-\"))\n"
   ]
  },
  {
   "cell_type": "code",
   "execution_count": 76,
   "metadata": {
    "collapsed": false
   },
   "outputs": [
    {
     "name": "stdout",
     "output_type": "stream",
     "text": [
      "{\"rows\":\n",
      " [ \n",
      "\t{\"title\":\"janaki\",\n",
      "          \"id\" :2 },\n",
      "\n",
      "        {\"titile2\":\"soundarya\",\n",
      "          \"id\": 1}\n",
      " ]\n",
      "}\n",
      "\n",
      "<type 'str'>\n",
      "{u'rows': [{u'id': 2, u'title': u'janaki'}, {u'id': 1, u'titile2': u'soundarya'}]} <type 'dict'>\n"
     ]
    }
   ],
   "source": [
    "import json\n",
    "f=open(\"test.txt\")\n",
    "data = f.read()\n",
    "print data , type(data)\n",
    "\n",
    "new = json.loads(data)\n",
    "print new, type(new)\n"
   ]
  },
  {
   "cell_type": "code",
   "execution_count": 103,
   "metadata": {
    "collapsed": false
   },
   "outputs": [
    {
     "name": "stdout",
     "output_type": "stream",
     "text": [
      "{\"rows\":\n",
      " [ \n",
      "\t{\"title\":\"janaki\",\n",
      "          \"id\" :2 },\n",
      "\n",
      "        {\"titile2\":\"soundarya\",\n",
      "          \"id\": 1}\n",
      " ]\n",
      "}\n",
      "\n",
      "<type 'str'>\n",
      "<type 'dict'>\n",
      "<type 'str'>\n"
     ]
    },
    {
     "ename": "AttributeError",
     "evalue": "'str' object has no attribute 'write'",
     "output_type": "error",
     "traceback": [
      "\u001b[0;31m---------------------------------------------------------------------------\u001b[0m",
      "\u001b[0;31mAttributeError\u001b[0m                            Traceback (most recent call last)",
      "\u001b[0;32m<ipython-input-103-2cb968ad500a>\u001b[0m in \u001b[0;36m<module>\u001b[0;34m()\u001b[0m\n\u001b[1;32m     10\u001b[0m \u001b[1;32mprint\u001b[0m \u001b[0mtype\u001b[0m\u001b[1;33m(\u001b[0m\u001b[0mf2\u001b[0m\u001b[1;33m)\u001b[0m\u001b[1;33m\u001b[0m\u001b[0m\n\u001b[1;32m     11\u001b[0m \u001b[1;33m\u001b[0m\u001b[0m\n\u001b[0;32m---> 12\u001b[0;31m \u001b[0mf3\u001b[0m \u001b[1;33m=\u001b[0m \u001b[0mjson\u001b[0m\u001b[1;33m.\u001b[0m\u001b[0mdump\u001b[0m\u001b[1;33m(\u001b[0m\u001b[0mf1\u001b[0m\u001b[1;33m,\u001b[0m\u001b[1;34m\"one.txt\"\u001b[0m\u001b[1;33m)\u001b[0m\u001b[1;33m\u001b[0m\u001b[0m\n\u001b[0m\u001b[1;32m     13\u001b[0m \u001b[1;32mprint\u001b[0m \u001b[0mtype\u001b[0m\u001b[1;33m(\u001b[0m\u001b[0mf3\u001b[0m\u001b[1;33m)\u001b[0m\u001b[1;33m\u001b[0m\u001b[0m\n",
      "\u001b[0;32mC:\\Users\\admin\\Anaconda2\\lib\\json\\__init__.pyc\u001b[0m in \u001b[0;36mdump\u001b[0;34m(obj, fp, skipkeys, ensure_ascii, check_circular, allow_nan, cls, indent, separators, encoding, default, sort_keys, **kw)\u001b[0m\n\u001b[1;32m    188\u001b[0m     \u001b[1;31m# a debuggability cost\u001b[0m\u001b[1;33m\u001b[0m\u001b[1;33m\u001b[0m\u001b[0m\n\u001b[1;32m    189\u001b[0m     \u001b[1;32mfor\u001b[0m \u001b[0mchunk\u001b[0m \u001b[1;32min\u001b[0m \u001b[0miterable\u001b[0m\u001b[1;33m:\u001b[0m\u001b[1;33m\u001b[0m\u001b[0m\n\u001b[0;32m--> 190\u001b[0;31m         \u001b[0mfp\u001b[0m\u001b[1;33m.\u001b[0m\u001b[0mwrite\u001b[0m\u001b[1;33m(\u001b[0m\u001b[0mchunk\u001b[0m\u001b[1;33m)\u001b[0m\u001b[1;33m\u001b[0m\u001b[0m\n\u001b[0m\u001b[1;32m    191\u001b[0m \u001b[1;33m\u001b[0m\u001b[0m\n\u001b[1;32m    192\u001b[0m \u001b[1;33m\u001b[0m\u001b[0m\n",
      "\u001b[0;31mAttributeError\u001b[0m: 'str' object has no attribute 'write'"
     ]
    }
   ],
   "source": [
    "import json\n",
    "f = open('datatest.json.txt')\n",
    "data = f.read()\n",
    "print data, type(data)\n",
    "f.close()\n",
    "f1 = json.loads(data)\n",
    "print type(f1)\n",
    "\n",
    "f2 = json.dumps(f1)\n",
    "print type(f2)\n",
    "\n",
    "f3 = json.dump(f1,\"one.txt\")\n",
    "print type(f3)"
   ]
  },
  {
   "cell_type": "code",
   "execution_count": 110,
   "metadata": {
    "collapsed": false
   },
   "outputs": [
    {
     "name": "stdout",
     "output_type": "stream",
     "text": [
      "{'lname': 'Bar', 'email': None, 'fname': 'Foo', 'children': ['Moo', 'Koo', 'Roo']} <type 'dict'>\n",
      "{\"lname\": \"Bar\", \"email\": null, \"fname\": \"Foo\", \"children\": [\"Moo\", \"Koo\", \"Roo\"]} <type 'str'>\n",
      "{\"lname\": \"Bar\", \"email\": null, \"fname\": \"Foo\", \"children\": [\"Moo\", \"Koo\", \"Roo\"]} <type 'str'>\n",
      "{u'lname': u'Bar', u'email': None, u'fname': u'Foo', u'children': [u'Moo', u'Koo', u'Roo']} <type 'dict'>\n"
     ]
    }
   ],
   "source": [
    "a = {\n",
    "  \"fname\" : 'Foo',\n",
    "  \"lname\" : 'Bar',\n",
    "  \"email\" : None,\n",
    "  \"children\" : [\n",
    "     \"Moo\",\n",
    "     \"Koo\",\n",
    "     \"Roo\"\n",
    "  ]\n",
    "}\n",
    "print a , type(a)\n",
    "with open('data.json', 'w') as fh:\n",
    "    json.dump(a, fh)\n",
    "\n",
    "f1 = open(\"data.json\")\n",
    "data = f1.read()\n",
    "print data,type(data)\n",
    "\n",
    "f = json.dumps(a)\n",
    "print f, type(f)\n",
    "\n",
    "with open('data.json', 'r') as fh:\n",
    "    a = json.load(fh)\n",
    "print a , type(a)"
   ]
  },
  {
   "cell_type": "code",
   "execution_count": null,
   "metadata": {
    "collapsed": true
   },
   "outputs": [],
   "source": [
    "load --- convets data from a string form to dictionary form and reads the data from a json file.\n",
    "loads -- loads a json data in string notation to a dictionary format.\n",
    "dump  --- converts a dictionary data to string notation and writes it into a file.\n",
    "dumps --- converts dictionary data to a string form."
   ]
  },
  {
   "cell_type": "code",
   "execution_count": 113,
   "metadata": {
    "collapsed": false
   },
   "outputs": [
    {
     "name": "stdout",
     "output_type": "stream",
     "text": [
      "<type 'dict'>\n",
      "<type 'str'>\n"
     ]
    },
    {
     "ename": "AttributeError",
     "evalue": "'tuple' object has no attribute 'write'",
     "output_type": "error",
     "traceback": [
      "\u001b[0;31m---------------------------------------------------------------------------\u001b[0m",
      "\u001b[0;31mAttributeError\u001b[0m                            Traceback (most recent call last)",
      "\u001b[0;32m<ipython-input-113-889e8afb10d9>\u001b[0m in \u001b[0;36m<module>\u001b[0;34m()\u001b[0m\n\u001b[1;32m     15\u001b[0m \u001b[1;33m\u001b[0m\u001b[0m\n\u001b[1;32m     16\u001b[0m \u001b[0mfo\u001b[0m \u001b[1;33m=\u001b[0m \u001b[1;33m(\u001b[0m\u001b[1;34m\"newjsondata.json\"\u001b[0m\u001b[1;33m,\u001b[0m\u001b[1;34m\"w\"\u001b[0m\u001b[1;33m)\u001b[0m\u001b[1;33m\u001b[0m\u001b[0m\n\u001b[0;32m---> 17\u001b[0;31m \u001b[0mjson\u001b[0m\u001b[1;33m.\u001b[0m\u001b[0mdump\u001b[0m\u001b[1;33m(\u001b[0m\u001b[0ma\u001b[0m\u001b[1;33m,\u001b[0m\u001b[0mfo\u001b[0m\u001b[1;33m)\u001b[0m\u001b[1;33m\u001b[0m\u001b[0m\n\u001b[0m",
      "\u001b[0;32mC:\\Users\\admin\\Anaconda2\\lib\\json\\__init__.pyc\u001b[0m in \u001b[0;36mdump\u001b[0;34m(obj, fp, skipkeys, ensure_ascii, check_circular, allow_nan, cls, indent, separators, encoding, default, sort_keys, **kw)\u001b[0m\n\u001b[1;32m    188\u001b[0m     \u001b[1;31m# a debuggability cost\u001b[0m\u001b[1;33m\u001b[0m\u001b[1;33m\u001b[0m\u001b[0m\n\u001b[1;32m    189\u001b[0m     \u001b[1;32mfor\u001b[0m \u001b[0mchunk\u001b[0m \u001b[1;32min\u001b[0m \u001b[0miterable\u001b[0m\u001b[1;33m:\u001b[0m\u001b[1;33m\u001b[0m\u001b[0m\n\u001b[0;32m--> 190\u001b[0;31m         \u001b[0mfp\u001b[0m\u001b[1;33m.\u001b[0m\u001b[0mwrite\u001b[0m\u001b[1;33m(\u001b[0m\u001b[0mchunk\u001b[0m\u001b[1;33m)\u001b[0m\u001b[1;33m\u001b[0m\u001b[0m\n\u001b[0m\u001b[1;32m    191\u001b[0m \u001b[1;33m\u001b[0m\u001b[0m\n\u001b[1;32m    192\u001b[0m \u001b[1;33m\u001b[0m\u001b[0m\n",
      "\u001b[0;31mAttributeError\u001b[0m: 'tuple' object has no attribute 'write'"
     ]
    }
   ],
   "source": [
    "#dumps usage\n",
    "a = {\n",
    "  \"fname\" : 'Foo',\n",
    "  \"lname\" : 'Bar',\n",
    "  \"email\" : None,\n",
    "  \"children\" : [\n",
    "     \"Moo\",\n",
    "     \"Koo\",\n",
    "     \"Roo\"\n",
    "  ]\n",
    "}\n",
    "print type(a)\n",
    "d_s_dumps = json.dumps(a)\n",
    "print type(d_s_dumps)\n",
    "\n",
    "fo = (\"newjsondata.json\",\"w\")\n",
    "json.dump(a,fo)"
   ]
  },
  {
   "cell_type": "code",
   "execution_count": 1,
   "metadata": {
    "collapsed": false
   },
   "outputs": [
    {
     "name": "stdout",
     "output_type": "stream",
     "text": [
      "TCS: 150, Defects: 150\n",
      "TCS: 110, Defects: 110\n",
      "TCS: 2030, Defects: 2030\n"
     ]
    }
   ],
   "source": [
    "class Day(object): \n",
    "    def __init__(self, tcs, defects): \n",
    "        self.tcs = tcs\n",
    "        self.defects = defects\n",
    "    def __add__(self, other): \n",
    "        total_tcs = self.tcs + other.tcs\n",
    "        total_defects = self.defects + other.defects \n",
    "        return Day(total_tcs, total_defects)\n",
    "    def __sub__(self, other): \n",
    "        total_tcs = self.tcs - other.tcs \n",
    "        total_defects = self.defects - other.defects \n",
    "        return Day(total_tcs, total_defects) \n",
    "    def __mul__(self, other): \n",
    "        total_tcs = self.tcs * other.tcs \n",
    "        total_defects = self.defects * other.defects \n",
    "        return Day(total_tcs, total_defects) \n",
    "    def __str__(self): \n",
    "        return \"TCS: %i, Defects: %i\" % (self.tcs, self.defects)\n",
    "     \n",
    "day1 = Day(100,100)\n",
    "day2 = Day(20,20)\n",
    "day3= Day(30,30)\n",
    "\n",
    "print day1+day2+day3\n",
    "print day1-day2+day3\n",
    "print day1*day2+day3"
   ]
  },
  {
   "cell_type": "code",
   "execution_count": 8,
   "metadata": {
    "collapsed": false
   },
   "outputs": [
    {
     "name": "stdout",
     "output_type": "stream",
     "text": [
      "{'age': 23, 'sal': 56787, 'id': 1, 'name': 'ashok'}\n",
      "{'age': 24, 'adhar': 23456, 'id': 2}\n",
      "{'age': 45, 'id': 4, 'pan': 'brcp3456', 'sal': 23}\n"
     ]
    },
    {
     "ename": "AttributeError",
     "evalue": "Person instance has no __call__ method",
     "output_type": "error",
     "traceback": [
      "\u001b[0;31m---------------------------------------------------------------------------\u001b[0m",
      "\u001b[0;31mAttributeError\u001b[0m                            Traceback (most recent call last)",
      "\u001b[0;32m<ipython-input-8-71bbb6abd069>\u001b[0m in \u001b[0;36m<module>\u001b[0;34m()\u001b[0m\n\u001b[1;32m      5\u001b[0m \u001b[0mp2\u001b[0m\u001b[1;33m=\u001b[0m \u001b[0mPerson\u001b[0m\u001b[1;33m(\u001b[0m\u001b[0mid\u001b[0m\u001b[1;33m=\u001b[0m\u001b[1;36m2\u001b[0m\u001b[1;33m,\u001b[0m\u001b[0mage\u001b[0m\u001b[1;33m=\u001b[0m\u001b[1;36m24\u001b[0m\u001b[1;33m,\u001b[0m\u001b[0madhar\u001b[0m\u001b[1;33m=\u001b[0m\u001b[1;36m23456\u001b[0m\u001b[1;33m)\u001b[0m\u001b[1;33m\u001b[0m\u001b[0m\n\u001b[1;32m      6\u001b[0m \u001b[0mp3\u001b[0m\u001b[1;33m=\u001b[0m\u001b[0mPerson\u001b[0m\u001b[1;33m(\u001b[0m\u001b[0mid\u001b[0m\u001b[1;33m=\u001b[0m\u001b[1;36m4\u001b[0m\u001b[1;33m,\u001b[0m\u001b[0mpan\u001b[0m\u001b[1;33m=\u001b[0m\u001b[1;34m\"brcp3456\"\u001b[0m\u001b[1;33m,\u001b[0m\u001b[0msal\u001b[0m\u001b[1;33m=\u001b[0m\u001b[1;36m23\u001b[0m\u001b[1;33m,\u001b[0m\u001b[0mage\u001b[0m\u001b[1;33m=\u001b[0m\u001b[1;36m45\u001b[0m\u001b[1;33m)\u001b[0m\u001b[1;33m\u001b[0m\u001b[0m\n\u001b[0;32m----> 7\u001b[0;31m \u001b[1;32mprint\u001b[0m \u001b[0mp1\u001b[0m\u001b[1;33m(\u001b[0m\u001b[1;33m)\u001b[0m\u001b[1;33m\u001b[0m\u001b[0m\n\u001b[0m\u001b[1;32m      8\u001b[0m \u001b[1;33m\u001b[0m\u001b[0m\n\u001b[1;32m      9\u001b[0m \u001b[1;33m\u001b[0m\u001b[0m\n",
      "\u001b[0;31mAttributeError\u001b[0m: Person instance has no __call__ method"
     ]
    }
   ],
   "source": [
    "class Person:\n",
    "    def __init__(self,**kwargs):\n",
    "        print kwargs\n",
    "p1= Person(id=1,name=\"ashok\",age=23,sal=56787)\n",
    "p2= Person(id=2,age=24,adhar=23456)\n",
    "p3=Person(id=4,pan=\"brcp3456\",sal=23,age=45)\n",
    "    def __add__(self , other): \n",
    "        total_tcs = self.tcs + other.tcs\n",
    "        total_defects = self.defects + other.defects \n",
    "        return Day(total_tcs, total_defects)\n",
    "\n",
    "    def __str__(self): \n",
    "        return kwargs\n",
    "        \n",
    "    "
   ]
  },
  {
   "cell_type": "code",
   "execution_count": 10,
   "metadata": {
    "collapsed": false
   },
   "outputs": [
    {
     "name": "stdout",
     "output_type": "stream",
     "text": [
      "10\n",
      "20\n",
      "91382952 91382952\n",
      "ids are same for both x and z\n"
     ]
    }
   ],
   "source": [
    "class Mysingleton(object):\n",
    "    _instance=None\n",
    "    def __new__(self):\n",
    "        if not self._instance:\n",
    "            self._instance = super(Mysingleton,self).__new__(self)\n",
    "            self.y = 10\n",
    "        return self._instance\n",
    "\n",
    "x = Mysingleton()\n",
    "print x.y\n",
    "x.y = 20\n",
    "z=Mysingleton()\n",
    "print z.y\n",
    "print id(x),id(z)\n",
    "if x is z:\n",
    "    print \"ids are same for both x and z\"\n",
    "    "
   ]
  }
 ],
 "metadata": {
  "kernelspec": {
   "display_name": "Python 2",
   "language": "python",
   "name": "python2"
  },
  "language_info": {
   "codemirror_mode": {
    "name": "ipython",
    "version": 2
   },
   "file_extension": ".py",
   "mimetype": "text/x-python",
   "name": "python",
   "nbconvert_exporter": "python",
   "pygments_lexer": "ipython2",
   "version": "2.7.13"
  }
 },
 "nbformat": 4,
 "nbformat_minor": 2
}
