{
 "cells": [
  {
   "cell_type": "code",
   "execution_count": 4,
   "metadata": {
    "collapsed": false
   },
   "outputs": [
    {
     "ename": "SyntaxError",
     "evalue": "EOL while scanning string literal (<ipython-input-4-35bbbd799e39>, line 1)",
     "output_type": "error",
     "traceback": [
      "\u001b[0;36m  File \u001b[0;32m\"<ipython-input-4-35bbbd799e39>\"\u001b[0;36m, line \u001b[0;32m1\u001b[0m\n\u001b[0;31m    a = ('Pseudo name=emcpowera\u001b[0m\n\u001b[0m                              ^\u001b[0m\n\u001b[0;31mSyntaxError\u001b[0m\u001b[0;31m:\u001b[0m EOL while scanning string literal\n"
     ]
    }
   ],
   "source": [
    "a = ('Pseudo name=emcpowera\n",
    "VPLEX ID=FNM00111700354\n",
    "Logical device ID=6000144000000010E040A96F14B3B411\n",
    "state=alive; policy=ADaptive; queued-IOs=1\n",
    "==============================================================================\n",
    "---- Host ----   - Stor -  ------------ I/O Path -------------   -- Stats ---\n",
    "###  I/O Paths   Interf.   ALUA State            Mode    State   Errors\n",
    "==============================================================================\n",
    "   0 sdc         05        Active/non-optimized  active  alive      0\n",
    "   1 sdcv        02        Active/optimized      active  dead       1\n",
    "   0 sdco        01        Active/optimized      active  dead       1\n",
    "   1 sdjp        06        Active/non-optimized  active  alive      0\n",
    "   0 sdnx        03        Active/non-optimized  active  alive      0\n",
    "   0 sdcr        00        Active/optimized      active  dead       1\n",
    "   1 sdcy        04        Active/optimized      active  dead       1\n",
    "   1 sdaav       07        Active/non-optimized  active  alive      0\n",
    "\n",
    "Pseudo name=emcpowerb\n",
    "VPLEX ID=FNM00111700354\n",
    "Logical device ID=6000144000000010E040A96F14B3B410\n",
    "state=alive; policy=ADaptive; queued-IOs=1\n",
    "==============================================================================\n",
    "---- Host ----   - Stor -  ------------ I/O Path -------------   -- Stats ---\n",
    "###  I/O Paths   Interf.   ALUA State            Mode    State   Errors\n",
    "==============================================================================\n",
    "   0 sdb         05        Active/optimized      active  alive      0\n",
    "   1 sdct        02        Active/non-optimized  active  dead       1\n",
    "   0 sdcm        01        Active/non-optimized  active  dead       1\n",
    "   1 sdjo        06        Active/optimized      active  alive      0\n",
    "   0 sdnv        03        Active/optimized      active  alive      0\n",
    "   0 sdcq        00        Active/non-optimized  active  dead       1\n",
    "   1 sdcw        04        Active/non-optimized  active  dead       1\n",
    "   1 sdaau       07        Active/optimized      active  alive      0'')\n"
   ]
  },
  {
   "cell_type": "code",
   "execution_count": null,
   "metadata": {
    "collapsed": true
   },
   "outputs": [],
   "source": []
  },
  {
   "cell_type": "code",
   "execution_count": null,
   "metadata": {
    "collapsed": true
   },
   "outputs": [],
   "source": []
  },
  {
   "cell_type": "code",
   "execution_count": null,
   "metadata": {
    "collapsed": true
   },
   "outputs": [],
   "source": []
  },
  {
   "cell_type": "code",
   "execution_count": null,
   "metadata": {
    "collapsed": true
   },
   "outputs": [],
   "source": []
  }
 ],
 "metadata": {
  "kernelspec": {
   "display_name": "Python 2",
   "language": "python",
   "name": "python2"
  },
  "language_info": {
   "codemirror_mode": {
    "name": "ipython",
    "version": 2
   },
   "file_extension": ".py",
   "mimetype": "text/x-python",
   "name": "python",
   "nbconvert_exporter": "python",
   "pygments_lexer": "ipython2",
   "version": "2.7.13"
  }
 },
 "nbformat": 4,
 "nbformat_minor": 2
}
