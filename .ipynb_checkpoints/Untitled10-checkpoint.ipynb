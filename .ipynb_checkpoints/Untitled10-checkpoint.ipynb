{
 "cells": [
  {
   "cell_type": "code",
   "execution_count": null,
   "metadata": {
    "collapsed": false
   },
   "outputs": [],
   "source": [
    "import psycopg2\n",
    "con = psycopg2.connect(user=\"postgres\",password=\"postgres\",host=\"localhost\",port=5432,database=\"Test\")\n",
    "cur = con.cursor()\n",
    "#query = \"create table Nexii_Inventory3 (id int , laptop varchar(50), charger varchar(50), ram varchar(50))\"\n",
    "#cur.execute(query)\n",
    "#con.commit()\n",
    "while True:\n",
    "    print \" Hello Welocme to Inventory \"\n",
    "    print \" Press '1' to add stock to Inventory or press '2' to provide hardware \\\n",
    "        components to employees or 'q' to quit \"\n",
    "    option = input(\"enter an option\")\n",
    "\n",
    "    def laptop_details():\n",
    "        print \"Existing Laptop details are:\"\n",
    "        cur.execute(\"select * from Nexii_Inventory\")\n",
    "        print cur.fetchall()\n",
    "    \n",
    "\n",
    "    if option == 1:\n",
    "        print \"Enter the details of id,LaptopModel,chargerModel,LaptopRAM\"\n",
    "        #query = \"SELECT COUNT(*) FROM Nexii_Inventory\"\n",
    "        #data = cur.execute(query)\n",
    "        #current_count  = cur.fetchall()\n",
    "        #print current_count\n",
    "        laptop_details()\n",
    "        data = raw_input(\"please enter the details\")\n",
    "        data = data.split()\n",
    "        cur.execute(\"insert into Nexii_Inventory VALUES (%s, %s, %s, %s)\",data)\n",
    "        con.commit()\n",
    "        print \"Laptop is added successfully to the database\"\n",
    "        print \"The details in the database are :\"\n",
    "        laptop_details()\n",
    "       \n",
    "    \n",
    "    elif option == 2:\n",
    "        laptop_details()\n",
    "        employee_opted = raw_input(\"select one laptop id \")\n",
    "        cur.execute(\"DELETE FROM Nexii_Inventory where ID =%s\",employee_opted)\n",
    "        con.commit()\n",
    "        laptop_details()\n",
    "    elif option == q:\n",
    "        break\n",
    "    else :\n",
    "        print \"Wrong option selected\""
   ]
  },
  {
   "cell_type": "code",
   "execution_count": null,
   "metadata": {
    "collapsed": true
   },
   "outputs": [],
   "source": []
  },
  {
   "cell_type": "code",
   "execution_count": null,
   "metadata": {
    "collapsed": true
   },
   "outputs": [],
   "source": []
  },
  {
   "cell_type": "code",
   "execution_count": null,
   "metadata": {
    "collapsed": true
   },
   "outputs": [],
   "source": []
  }
 ],
 "metadata": {
  "kernelspec": {
   "display_name": "Python 2",
   "language": "python",
   "name": "python2"
  },
  "language_info": {
   "codemirror_mode": {
    "name": "ipython",
    "version": 2
   },
   "file_extension": ".py",
   "mimetype": "text/x-python",
   "name": "python",
   "nbconvert_exporter": "python",
   "pygments_lexer": "ipython2",
   "version": "2.7.13"
  }
 },
 "nbformat": 4,
 "nbformat_minor": 2
}
