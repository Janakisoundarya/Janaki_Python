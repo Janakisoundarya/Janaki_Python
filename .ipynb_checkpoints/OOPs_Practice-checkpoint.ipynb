{
 "cells": [
  {
   "cell_type": "code",
   "execution_count": 1,
   "metadata": {
    "collapsed": false
   },
   "outputs": [
    {
     "name": "stdout",
     "output_type": "stream",
     "text": [
      "(<__main__.Emp instance at 0x0000000004468988>, 'emp_name', 123)\n"
     ]
    },
    {
     "ename": "NameError",
     "evalue": "global name 'oper1' is not defined",
     "output_type": "error",
     "traceback": [
      "\u001b[0;31m---------------------------------------------------------------------------\u001b[0m",
      "\u001b[0;31mNameError\u001b[0m                                 Traceback (most recent call last)",
      "\u001b[0;32m<ipython-input-1-90ead7b403cb>\u001b[0m in \u001b[0;36m<module>\u001b[0;34m()\u001b[0m\n\u001b[1;32m     10\u001b[0m \u001b[1;33m\u001b[0m\u001b[0m\n\u001b[1;32m     11\u001b[0m \u001b[0memp_ins\u001b[0m \u001b[1;33m=\u001b[0m \u001b[0mEmp\u001b[0m\u001b[1;33m(\u001b[0m\u001b[1;33m)\u001b[0m\u001b[1;33m\u001b[0m\u001b[0m\n\u001b[0;32m---> 12\u001b[0;31m \u001b[0memp_ins\u001b[0m\u001b[1;33m.\u001b[0m\u001b[0moperations\u001b[0m\u001b[1;33m(\u001b[0m\u001b[1;34m\"emp_name\"\u001b[0m\u001b[1;33m,\u001b[0m\u001b[1;36m123\u001b[0m\u001b[1;33m)\u001b[0m\u001b[1;33m\u001b[0m\u001b[0m\n\u001b[0m",
      "\u001b[0;32m<ipython-input-1-90ead7b403cb>\u001b[0m in \u001b[0;36moperations\u001b[0;34m(*a)\u001b[0m\n\u001b[1;32m      6\u001b[0m     \u001b[1;32mdef\u001b[0m \u001b[0moperations\u001b[0m\u001b[1;33m(\u001b[0m\u001b[1;33m*\u001b[0m\u001b[0ma\u001b[0m\u001b[1;33m)\u001b[0m\u001b[1;33m:\u001b[0m\u001b[1;33m\u001b[0m\u001b[0m\n\u001b[1;32m      7\u001b[0m         \u001b[1;32mprint\u001b[0m \u001b[0ma\u001b[0m\u001b[1;33m\u001b[0m\u001b[0m\n\u001b[0;32m----> 8\u001b[0;31m         \u001b[0moper1\u001b[0m\u001b[1;33m(\u001b[0m\u001b[1;33m)\u001b[0m\u001b[1;33m\u001b[0m\u001b[0m\n\u001b[0m\u001b[1;32m      9\u001b[0m         \u001b[0moper2\u001b[0m\u001b[1;33m(\u001b[0m\u001b[1;33m)\u001b[0m\u001b[1;33m\u001b[0m\u001b[0m\n\u001b[1;32m     10\u001b[0m \u001b[1;33m\u001b[0m\u001b[0m\n",
      "\u001b[0;31mNameError\u001b[0m: global name 'oper1' is not defined"
     ]
    }
   ],
   "source": [
    "class Emp:\n",
    "    def oper1(*a):\n",
    "        print \"oper1\"\n",
    "    def oper2(*a):\n",
    "        print \"oper2\"\n",
    "    def operations(*a):\n",
    "        print a\n",
    "        oper1()\n",
    "        oper2()\n",
    "        \n",
    "emp_ins = Emp()\n",
    "emp_ins.operations(\"emp_name\",123)"
   ]
  },
  {
   "cell_type": "code",
   "execution_count": 2,
   "metadata": {
    "collapsed": false
   },
   "outputs": [
    {
     "name": "stdout",
     "output_type": "stream",
     "text": [
      "(<__main__.Emp instance at 0x0000000005C64848>, 'emp_name', 123)\n"
     ]
    }
   ],
   "source": [
    "class Emp:\n",
    "    def set_emp(*data):\n",
    "        print data\n",
    "emp_ins = Emp()\n",
    "emp_ins.set_emp(\"emp_name\",123)"
   ]
  },
  {
   "cell_type": "code",
   "execution_count": null,
   "metadata": {
    "collapsed": true
   },
   "outputs": [],
   "source": [
    "class Emp:\n",
    "    name = \"Anil\"\n",
    "    e_id = 123\n",
    "    "
   ]
  },
  {
   "cell_type": "code",
   "execution_count": 7,
   "metadata": {
    "collapsed": false
   },
   "outputs": [
    {
     "name": "stdout",
     "output_type": "stream",
     "text": [
      "True\n"
     ]
    }
   ],
   "source": [
    "l=['a','A','B','d','D','c','C']\n",
    "ele = 'b'\n",
    "count =0\n",
    "#for i in l:\n",
    "#    if i.lower() == ele.lower():\n",
    "#        count+=1\n",
    "#print ele,count\n",
    "flag = False\n",
    "for i in l:\n",
    "    if ele.lower() == i.lower():\n",
    "        flag = True\n",
    "print flag\n",
    "        "
   ]
  },
  {
   "cell_type": "code",
   "execution_count": null,
   "metadata": {
    "collapsed": true
   },
   "outputs": [],
   "source": [
    "data = [\"ba\",\"aac\",\"abacad\"]\n",
    "for i in data:\n",
    "    "
   ]
  },
  {
   "cell_type": "code",
   "execution_count": 12,
   "metadata": {
    "collapsed": false
   },
   "outputs": [
    {
     "name": "stdout",
     "output_type": "stream",
     "text": [
      "2\n"
     ]
    }
   ],
   "source": [
    "input fun('abc') output: [[],[a],[b],[c],[a,b],[b,c],[c,a],[a,b,c]]\n",
    "def fun(ab):\n",
    "    for i in range(len(ab)):\n",
    "        if i ==0:\n",
    "            l.append([])\n",
    "        else:\n",
    "            for i in len(ab):\n",
    "                l.append([i])\n",
    "                \n",
    "        \n",
    "    \n",
    "            \n",
    "            \n",
    "        "
   ]
  },
  {
   "cell_type": "code",
   "execution_count": 14,
   "metadata": {
    "collapsed": false
   },
   "outputs": [
    {
     "name": "stdout",
     "output_type": "stream",
     "text": [
      "all the operations were successfull\n"
     ]
    }
   ],
   "source": [
    "import psycopg2\n",
    "def db_connect():\n",
    "    con=psycopg2.connect(user=\"postgres\",password=\"postgres\",port=5432,database=\"Test\")\n",
    "    cur=con.cursor()\n",
    "    return con,cur\n",
    "def create_table():\n",
    "    con,cur=db_connect()\n",
    "    query=\"create table user_details (id int, name varchar(50))\"\n",
    "    cur.execute(query)\n",
    "    con.commit()\n",
    "def insert_values():\n",
    "    con,cur=db_connect()\n",
    "    query= \"insert into user_details values (1,'janaki')\"\n",
    "    query1=\"insert into user_details values(2,'soundarya')\"\n",
    "    cur.execute(query)\n",
    "    cur.execute(query1)\n",
    "    con.commit()\n",
    "def update_values():\n",
    "    con,cur=db_connect()\n",
    "    query= \"update user_details SET name = 'janaki soundarya' where id = 1\"\n",
    "    cur.execute(query)\n",
    "    con.commit()\n",
    "def delete_values():\n",
    "    con,cur = db_connect()\n",
    "    query= \"DELETE FROM user_details WHERE id = 1\"\n",
    "    cur.execute(query)\n",
    "    con.commit()\n",
    "db_connect()\n",
    "create_table()\n",
    "insert_values()\n",
    "update_values()\n",
    "delete_values()\n",
    "print \"all the operations were successfull\""
   ]
  },
  {
   "cell_type": "markdown",
   "metadata": {},
   "source": [
    "a = 10\n",
    "print a"
   ]
  },
  {
   "cell_type": "code",
   "execution_count": 15,
   "metadata": {
    "collapsed": false
   },
   "outputs": [
    {
     "name": "stdout",
     "output_type": "stream",
     "text": [
      "10\n"
     ]
    }
   ],
   "source": [
    "a = 10\n",
    "print a"
   ]
  },
  {
   "cell_type": "code",
   "execution_count": 20,
   "metadata": {
    "collapsed": false
   },
   "outputs": [
    {
     "ename": "TypeError",
     "evalue": "__init__() got an unexpected keyword argument 'id'",
     "output_type": "error",
     "traceback": [
      "\u001b[0;31m---------------------------------------------------------------------------\u001b[0m",
      "\u001b[0;31mTypeError\u001b[0m                                 Traceback (most recent call last)",
      "\u001b[0;32m<ipython-input-20-b81b21f0b43c>\u001b[0m in \u001b[0;36m<module>\u001b[0;34m()\u001b[0m\n\u001b[1;32m      5\u001b[0m     \u001b[1;32mdef\u001b[0m \u001b[0mget_details\u001b[0m\u001b[1;33m(\u001b[0m\u001b[0mself\u001b[0m\u001b[1;33m)\u001b[0m\u001b[1;33m:\u001b[0m\u001b[1;33m\u001b[0m\u001b[0m\n\u001b[1;32m      6\u001b[0m         \u001b[1;32mreturn\u001b[0m \u001b[0mself\u001b[0m\u001b[1;33m.\u001b[0m\u001b[0mid\u001b[0m\u001b[1;33m,\u001b[0m\u001b[0mself\u001b[0m\u001b[1;33m.\u001b[0m\u001b[0mname\u001b[0m\u001b[1;33m,\u001b[0m\u001b[0mself\u001b[0m\u001b[1;33m.\u001b[0m\u001b[0mage\u001b[0m\u001b[1;33m,\u001b[0m\u001b[0mself\u001b[0m\u001b[1;33m.\u001b[0m\u001b[0msal\u001b[0m\u001b[1;33m\u001b[0m\u001b[0m\n\u001b[0;32m----> 7\u001b[0;31m \u001b[0mp1\u001b[0m \u001b[1;33m=\u001b[0m \u001b[0mperson\u001b[0m\u001b[1;33m(\u001b[0m\u001b[0mid\u001b[0m\u001b[1;33m=\u001b[0m\u001b[1;36m1\u001b[0m\u001b[1;33m,\u001b[0m\u001b[0mname\u001b[0m\u001b[1;33m=\u001b[0m\u001b[1;34m\"ashok\"\u001b[0m\u001b[1;33m,\u001b[0m\u001b[0mage\u001b[0m\u001b[1;33m=\u001b[0m\u001b[1;36m23\u001b[0m\u001b[1;33m,\u001b[0m\u001b[0msal\u001b[0m\u001b[1;33m=\u001b[0m\u001b[1;36m56787\u001b[0m\u001b[1;33m)\u001b[0m\u001b[1;33m\u001b[0m\u001b[0m\n\u001b[0m\u001b[1;32m      8\u001b[0m \u001b[1;31m#p1.get_details()\u001b[0m\u001b[1;33m\u001b[0m\u001b[1;33m\u001b[0m\u001b[0m\n",
      "\u001b[0;31mTypeError\u001b[0m: __init__() got an unexpected keyword argument 'id'"
     ]
    }
   ],
   "source": [
    "#76 program\n",
    "class person:\n",
    "    def __init__(self,*a):\n",
    "        print self.a\n",
    "    \n",
    "p1 = person(id=1,name=\"ashok\",age=23,sal=56787)\n",
    "#p1.get_details()"
   ]
  }
 ],
 "metadata": {
  "kernelspec": {
   "display_name": "Python 2",
   "language": "python",
   "name": "python2"
  },
  "language_info": {
   "codemirror_mode": {
    "name": "ipython",
    "version": 2
   },
   "file_extension": ".py",
   "mimetype": "text/x-python",
   "name": "python",
   "nbconvert_exporter": "python",
   "pygments_lexer": "ipython2",
   "version": "2.7.13"
  }
 },
 "nbformat": 4,
 "nbformat_minor": 2
}
